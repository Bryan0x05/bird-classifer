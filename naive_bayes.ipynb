{
  "cells": [
    {
      "cell_type": "markdown",
      "metadata": {},
      "source": [
        "# Installing Needed Tools"
      ]
    },
    {
      "cell_type": "code",
      "execution_count": 1,
      "metadata": {},
      "outputs": [
        {
          "name": "stdout",
          "output_type": "stream",
          "text": [
            "Requirement already satisfied: opencv-python in c:\\users\\bryan\\appdata\\local\\programs\\python\\python310\\lib\\site-packages (4.8.1.78)\n",
            "Requirement already satisfied: numpy>=1.21.2 in c:\\users\\bryan\\appdata\\local\\programs\\python\\python310\\lib\\site-packages (from opencv-python) (1.22.3)\n",
            "Note: you may need to restart the kernel to use updated packages.\n"
          ]
        }
      ],
      "source": [
        "%pip install opencv-python"
      ]
    },
    {
      "cell_type": "markdown",
      "metadata": {
        "id": "exHt2qainLHc"
      },
      "source": [
        "## Tools"
      ]
    },
    {
      "cell_type": "code",
      "execution_count": 2,
      "metadata": {
        "id": "DEW7neF4nLHg"
      },
      "outputs": [],
      "source": [
        "import numpy as np # for handling numbers\n",
        "import pandas as pd # for handling spreadsheet data\n",
        "import matplotlib.pyplot as plt # for plotting\n",
        "import cv2 # computer vision from extracting features from images\n",
        "import seaborn as sns # enchancement of plotting library\n",
        "sns.set_style(\"darkgrid\")"
      ]
    },
    {
      "cell_type": "markdown",
      "metadata": {
        "id": "2gkoIIbanLHi"
      },
      "source": [
        "## Dataset\n",
        "Load the spreadsheet for feature extraction with computer vision."
      ]
    },
    {
      "cell_type": "code",
      "execution_count": 3,
      "metadata": {
        "colab": {
          "base_uri": "https://localhost:8080/",
          "height": 363
        },
        "id": "mjUZ0BtbnLHi",
        "outputId": "0a762807-adcc-4249-ab35-97ee6b230aa9"
      },
      "outputs": [
        {
          "data": {
            "text/html": [
              "<div>\n",
              "<style scoped>\n",
              "    .dataframe tbody tr th:only-of-type {\n",
              "        vertical-align: middle;\n",
              "    }\n",
              "\n",
              "    .dataframe tbody tr th {\n",
              "        vertical-align: top;\n",
              "    }\n",
              "\n",
              "    .dataframe thead th {\n",
              "        text-align: right;\n",
              "    }\n",
              "</style>\n",
              "<table border=\"1\" class=\"dataframe\">\n",
              "  <thead>\n",
              "    <tr style=\"text-align: right;\">\n",
              "      <th></th>\n",
              "      <th>class id</th>\n",
              "      <th>filepaths</th>\n",
              "      <th>labels</th>\n",
              "      <th>data set</th>\n",
              "      <th>scientific name</th>\n",
              "    </tr>\n",
              "  </thead>\n",
              "  <tbody>\n",
              "    <tr>\n",
              "      <th>0</th>\n",
              "      <td>40.0</td>\n",
              "      <td>train/ASIAN GREEN BEE EATER/162.jpg</td>\n",
              "      <td>ASIAN GREEN BEE EATER</td>\n",
              "      <td>train</td>\n",
              "      <td>MEROPS ORIENTALIS</td>\n",
              "    </tr>\n",
              "    <tr>\n",
              "      <th>1</th>\n",
              "      <td>40.0</td>\n",
              "      <td>train/ASIAN GREEN BEE EATER/136.jpg</td>\n",
              "      <td>ASIAN GREEN BEE EATER</td>\n",
              "      <td>train</td>\n",
              "      <td>MEROPS ORIENTALIS</td>\n",
              "    </tr>\n",
              "    <tr>\n",
              "      <th>2</th>\n",
              "      <td>40.0</td>\n",
              "      <td>train/ASIAN GREEN BEE EATER/153.jpg</td>\n",
              "      <td>ASIAN GREEN BEE EATER</td>\n",
              "      <td>train</td>\n",
              "      <td>MEROPS ORIENTALIS</td>\n",
              "    </tr>\n",
              "    <tr>\n",
              "      <th>3</th>\n",
              "      <td>40.0</td>\n",
              "      <td>train/ASIAN GREEN BEE EATER/102.jpg</td>\n",
              "      <td>ASIAN GREEN BEE EATER</td>\n",
              "      <td>train</td>\n",
              "      <td>MEROPS ORIENTALIS</td>\n",
              "    </tr>\n",
              "    <tr>\n",
              "      <th>4</th>\n",
              "      <td>40.0</td>\n",
              "      <td>train/ASIAN GREEN BEE EATER/145.jpg</td>\n",
              "      <td>ASIAN GREEN BEE EATER</td>\n",
              "      <td>train</td>\n",
              "      <td>MEROPS ORIENTALIS</td>\n",
              "    </tr>\n",
              "    <tr>\n",
              "      <th>5</th>\n",
              "      <td>40.0</td>\n",
              "      <td>train/ASIAN GREEN BEE EATER/101.jpg</td>\n",
              "      <td>ASIAN GREEN BEE EATER</td>\n",
              "      <td>train</td>\n",
              "      <td>MEROPS ORIENTALIS</td>\n",
              "    </tr>\n",
              "    <tr>\n",
              "      <th>6</th>\n",
              "      <td>40.0</td>\n",
              "      <td>train/ASIAN GREEN BEE EATER/105.jpg</td>\n",
              "      <td>ASIAN GREEN BEE EATER</td>\n",
              "      <td>train</td>\n",
              "      <td>MEROPS ORIENTALIS</td>\n",
              "    </tr>\n",
              "    <tr>\n",
              "      <th>7</th>\n",
              "      <td>40.0</td>\n",
              "      <td>train/ASIAN GREEN BEE EATER/166.jpg</td>\n",
              "      <td>ASIAN GREEN BEE EATER</td>\n",
              "      <td>train</td>\n",
              "      <td>MEROPS ORIENTALIS</td>\n",
              "    </tr>\n",
              "    <tr>\n",
              "      <th>8</th>\n",
              "      <td>40.0</td>\n",
              "      <td>train/ASIAN GREEN BEE EATER/106.jpg</td>\n",
              "      <td>ASIAN GREEN BEE EATER</td>\n",
              "      <td>train</td>\n",
              "      <td>MEROPS ORIENTALIS</td>\n",
              "    </tr>\n",
              "    <tr>\n",
              "      <th>9</th>\n",
              "      <td>40.0</td>\n",
              "      <td>train/ASIAN GREEN BEE EATER/103.jpg</td>\n",
              "      <td>ASIAN GREEN BEE EATER</td>\n",
              "      <td>train</td>\n",
              "      <td>MEROPS ORIENTALIS</td>\n",
              "    </tr>\n",
              "  </tbody>\n",
              "</table>\n",
              "</div>"
            ],
            "text/plain": [
              "   class id                            filepaths                 labels  \\\n",
              "0      40.0  train/ASIAN GREEN BEE EATER/162.jpg  ASIAN GREEN BEE EATER   \n",
              "1      40.0  train/ASIAN GREEN BEE EATER/136.jpg  ASIAN GREEN BEE EATER   \n",
              "2      40.0  train/ASIAN GREEN BEE EATER/153.jpg  ASIAN GREEN BEE EATER   \n",
              "3      40.0  train/ASIAN GREEN BEE EATER/102.jpg  ASIAN GREEN BEE EATER   \n",
              "4      40.0  train/ASIAN GREEN BEE EATER/145.jpg  ASIAN GREEN BEE EATER   \n",
              "5      40.0  train/ASIAN GREEN BEE EATER/101.jpg  ASIAN GREEN BEE EATER   \n",
              "6      40.0  train/ASIAN GREEN BEE EATER/105.jpg  ASIAN GREEN BEE EATER   \n",
              "7      40.0  train/ASIAN GREEN BEE EATER/166.jpg  ASIAN GREEN BEE EATER   \n",
              "8      40.0  train/ASIAN GREEN BEE EATER/106.jpg  ASIAN GREEN BEE EATER   \n",
              "9      40.0  train/ASIAN GREEN BEE EATER/103.jpg  ASIAN GREEN BEE EATER   \n",
              "\n",
              "  data set    scientific name  \n",
              "0    train  MEROPS ORIENTALIS  \n",
              "1    train  MEROPS ORIENTALIS  \n",
              "2    train  MEROPS ORIENTALIS  \n",
              "3    train  MEROPS ORIENTALIS  \n",
              "4    train  MEROPS ORIENTALIS  \n",
              "5    train  MEROPS ORIENTALIS  \n",
              "6    train  MEROPS ORIENTALIS  \n",
              "7    train  MEROPS ORIENTALIS  \n",
              "8    train  MEROPS ORIENTALIS  \n",
              "9    train  MEROPS ORIENTALIS  "
            ]
          },
          "execution_count": 3,
          "metadata": {},
          "output_type": "execute_result"
        }
      ],
      "source": [
        "spreadsheet_data = pd.read_csv(\"birds.csv\") # load the dataset\n",
        "spreadsheet_data.head(10)"
      ]
    },
    {
      "cell_type": "markdown",
      "metadata": {},
      "source": [
        "# Computer Vision & Features\n",
        "The spreadsheet does not directly contains the features, rather the filepaths for the images. Before we can use Naive Bayes we need to use convert these images to usable data format in python."
      ]
    },
    {
      "cell_type": "code",
      "execution_count": 4,
      "metadata": {},
      "outputs": [
        {
          "data": {
            "text/html": [
              "<div>\n",
              "<style scoped>\n",
              "    .dataframe tbody tr th:only-of-type {\n",
              "        vertical-align: middle;\n",
              "    }\n",
              "\n",
              "    .dataframe tbody tr th {\n",
              "        vertical-align: top;\n",
              "    }\n",
              "\n",
              "    .dataframe thead th {\n",
              "        text-align: right;\n",
              "    }\n",
              "</style>\n",
              "<table border=\"1\" class=\"dataframe\">\n",
              "  <thead>\n",
              "    <tr style=\"text-align: right;\">\n",
              "      <th></th>\n",
              "      <th>image</th>\n",
              "      <th>label</th>\n",
              "    </tr>\n",
              "  </thead>\n",
              "  <tbody>\n",
              "    <tr>\n",
              "      <th>0</th>\n",
              "      <td>[50, 54, 58, 62, 65, 69, 70, 73, 74, 76, 81, 1...</td>\n",
              "      <td>train/ASIAN GREEN BEE EATER/162.jpg</td>\n",
              "    </tr>\n",
              "    <tr>\n",
              "      <th>1</th>\n",
              "      <td>[119, 114, 107, 109, 114, 124, 137, 140, 151, ...</td>\n",
              "      <td>train/ASIAN GREEN BEE EATER/136.jpg</td>\n",
              "    </tr>\n",
              "    <tr>\n",
              "      <th>2</th>\n",
              "      <td>[144, 144, 144, 143, 143, 143, 144, 146, 147, ...</td>\n",
              "      <td>train/ASIAN GREEN BEE EATER/153.jpg</td>\n",
              "    </tr>\n",
              "    <tr>\n",
              "      <th>3</th>\n",
              "      <td>[157, 157, 157, 157, 157, 157, 157, 157, 157, ...</td>\n",
              "      <td>train/ASIAN GREEN BEE EATER/102.jpg</td>\n",
              "    </tr>\n",
              "    <tr>\n",
              "      <th>4</th>\n",
              "      <td>[143, 142, 146, 153, 160, 164, 168, 172, 172, ...</td>\n",
              "      <td>train/ASIAN GREEN BEE EATER/145.jpg</td>\n",
              "    </tr>\n",
              "    <tr>\n",
              "      <th>5</th>\n",
              "      <td>[88, 89, 87, 87, 89, 86, 90, 90, 93, 99, 98, 1...</td>\n",
              "      <td>train/ASIAN GREEN BEE EATER/101.jpg</td>\n",
              "    </tr>\n",
              "    <tr>\n",
              "      <th>6</th>\n",
              "      <td>[71, 72, 91, 89, 80, 79, 83, 86, 86, 106, 124,...</td>\n",
              "      <td>train/ASIAN GREEN BEE EATER/105.jpg</td>\n",
              "    </tr>\n",
              "    <tr>\n",
              "      <th>7</th>\n",
              "      <td>[120, 118, 118, 121, 118, 117, 111, 109, 108, ...</td>\n",
              "      <td>train/ASIAN GREEN BEE EATER/166.jpg</td>\n",
              "    </tr>\n",
              "    <tr>\n",
              "      <th>8</th>\n",
              "      <td>[110, 91, 61, 75, 68, 240, 189, 41, 113, 103, ...</td>\n",
              "      <td>train/ASIAN GREEN BEE EATER/106.jpg</td>\n",
              "    </tr>\n",
              "    <tr>\n",
              "      <th>9</th>\n",
              "      <td>[217, 220, 218, 215, 218, 212, 213, 216, 215, ...</td>\n",
              "      <td>train/ASIAN GREEN BEE EATER/103.jpg</td>\n",
              "    </tr>\n",
              "  </tbody>\n",
              "</table>\n",
              "</div>"
            ],
            "text/plain": [
              "                                               image  \\\n",
              "0  [50, 54, 58, 62, 65, 69, 70, 73, 74, 76, 81, 1...   \n",
              "1  [119, 114, 107, 109, 114, 124, 137, 140, 151, ...   \n",
              "2  [144, 144, 144, 143, 143, 143, 144, 146, 147, ...   \n",
              "3  [157, 157, 157, 157, 157, 157, 157, 157, 157, ...   \n",
              "4  [143, 142, 146, 153, 160, 164, 168, 172, 172, ...   \n",
              "5  [88, 89, 87, 87, 89, 86, 90, 90, 93, 99, 98, 1...   \n",
              "6  [71, 72, 91, 89, 80, 79, 83, 86, 86, 106, 124,...   \n",
              "7  [120, 118, 118, 121, 118, 117, 111, 109, 108, ...   \n",
              "8  [110, 91, 61, 75, 68, 240, 189, 41, 113, 103, ...   \n",
              "9  [217, 220, 218, 215, 218, 212, 213, 216, 215, ...   \n",
              "\n",
              "                                 label  \n",
              "0  train/ASIAN GREEN BEE EATER/162.jpg  \n",
              "1  train/ASIAN GREEN BEE EATER/136.jpg  \n",
              "2  train/ASIAN GREEN BEE EATER/153.jpg  \n",
              "3  train/ASIAN GREEN BEE EATER/102.jpg  \n",
              "4  train/ASIAN GREEN BEE EATER/145.jpg  \n",
              "5  train/ASIAN GREEN BEE EATER/101.jpg  \n",
              "6  train/ASIAN GREEN BEE EATER/105.jpg  \n",
              "7  train/ASIAN GREEN BEE EATER/166.jpg  \n",
              "8  train/ASIAN GREEN BEE EATER/106.jpg  \n",
              "9  train/ASIAN GREEN BEE EATER/103.jpg  "
            ]
          },
          "execution_count": 4,
          "metadata": {},
          "output_type": "execute_result"
        }
      ],
      "source": [
        "\n",
        "# Get a reduced size image's array of the pixel data into a dataframe to easily relate it to it's 'label'\n",
        "def load_resize_flatten_images(df, target_size=(28, 28)):    \n",
        "    # convert data format to feature vectors\n",
        "    images, labels = [],[]\n",
        "    data = {'image':[],'label':[]}\n",
        "    for index, row in df.iterrows():\n",
        "        # extractp pixel data from the image at the file path\n",
        "        image = cv2.imread(row['filepaths'])\n",
        "        # gray scale to reduce data size while retaining most data as colors well be stored as intenisity\n",
        "        grayscaledImage = cv2.cvtColor(image,cv2.COLOR_BGR2GRAY)\n",
        "        # resize image to smaller dimensions make data more managable\n",
        "        resizedImage = cv2.resize(grayscaledImage,target_size)\n",
        "        # flatten into a 1D array\n",
        "        imageArray = resizedImage.flatten()\n",
        "        data['image'].append(imageArray)\n",
        "        # use the filepath as an identifer to label the image data\n",
        "        data['label'].append(row['filepaths'])\n",
        "    # encapsulate this data as a dataframe for easier handling\n",
        "    return pd.DataFrame(data)\n",
        "pixelData = load_resize_flatten_images(spreadsheet_data)\n",
        "pixelData.head(10)\n"
      ]
    },
    {
      "cell_type": "markdown",
      "metadata": {
        "id": "M5LEPdUYnLHj"
      },
      "source": [
        "## Basic Exploratory Data Analysis (EDA)\n",
        "A given pixels value is logically independent of another. Since the heat map in the example exists to prove inpendence it has been forgone."
      ]
    },
    {
      "cell_type": "code",
      "execution_count": 18,
      "metadata": {
        "colab": {
          "base_uri": "https://localhost:8080/",
          "height": 448
        },
        "id": "BGuYKXg_nLHk",
        "outputId": "a805d507-8fef-4d6b-b3e4-55b52b3b6f2c"
      },
      "outputs": [
        {
          "data": {
            "text/plain": [
              "Text(0.5, 1.0, 'Grayscale Pixel Values')"
            ]
          },
          "execution_count": 18,
          "metadata": {},
          "output_type": "execute_result"
        },
        {
          "data": {
            "image/png": "[encoded data removed]",
            "text/plain": [
              "<Figure size 640x480 with 1 Axes>"
            ]
          },
          "metadata": {},
          "output_type": "display_data"
        }
      ],
      "source": [
        "# Create a histogram with specified color\n",
        "plt.hist(pixelData[\"image\"], lw=0)\n",
        "\n",
        "# Labeling x and y axes\n",
        "plt.xlabel('Pixel Intensity')\n",
        "plt.ylabel('Frequency')\n",
        "\n",
        "# Title for the histogram\n",
        "plt.title('Grayscale Pixel Values')"
      ]
    },
    {
      "cell_type": "markdown",
      "metadata": {},
      "source": [
        "# EDA II, Data Distrubtion"
      ]
    },
    {
      "cell_type": "code",
      "execution_count": 19,
      "metadata": {
        "colab": {
          "base_uri": "https://localhost:8080/",
          "height": 342
        },
        "id": "hRZ4xuy7nLHl",
        "outputId": "74cd71cd-8b61-47c7-9df1-3ffa3d92c0ce"
      },
      "outputs": [
        {
          "ename": "ValueError",
          "evalue": "Could not interpret value `Pixel Intensity` for `x`. An entry with this name does not appear in `data`.",
          "output_type": "error",
          "traceback": [
            "\u001b[1;31m---------------------------------------------------------------------------\u001b[0m",
            "\u001b[1;31mValueError\u001b[0m                                Traceback (most recent call last)",
            "\u001b[1;32mc:\\Users\\bryan\\Documents\\Programming\\Git\\bird-classifer\\naive_bayes.ipynb Cell 12\u001b[0m line \u001b[0;36m1\n\u001b[1;32m----> <a href='vscode-notebook-cell:/c%3A/Users/bryan/Documents/Programming/Git/bird-classifer/naive_bayes.ipynb#X15sZmlsZQ%3D%3D?line=0'>1</a>\u001b[0m sns\u001b[39m.\u001b[39;49mhistplot(pixelData,  x\u001b[39m=\u001b[39;49m\u001b[39m\"\u001b[39;49m\u001b[39mPixel Intensity\u001b[39;49m\u001b[39m\"\u001b[39;49m, kde\u001b[39m=\u001b[39;49m\u001b[39mTrue\u001b[39;49;00m, color\u001b[39m=\u001b[39;49m\u001b[39m'\u001b[39;49m\u001b[39mr\u001b[39;49m\u001b[39m'\u001b[39;49m)\n",
            "File \u001b[1;32mc:\\Users\\bryan\\AppData\\Local\\Programs\\Python\\Python310\\lib\\site-packages\\seaborn\\distributions.py:1379\u001b[0m, in \u001b[0;36mhistplot\u001b[1;34m(data, x, y, hue, weights, stat, bins, binwidth, binrange, discrete, cumulative, common_bins, common_norm, multiple, element, fill, shrink, kde, kde_kws, line_kws, thresh, pthresh, pmax, cbar, cbar_ax, cbar_kws, palette, hue_order, hue_norm, color, log_scale, legend, ax, **kwargs)\u001b[0m\n\u001b[0;32m   1358\u001b[0m \u001b[39mdef\u001b[39;00m \u001b[39mhistplot\u001b[39m(\n\u001b[0;32m   1359\u001b[0m     data\u001b[39m=\u001b[39m\u001b[39mNone\u001b[39;00m, \u001b[39m*\u001b[39m,\n\u001b[0;32m   1360\u001b[0m     \u001b[39m# Vector variables\u001b[39;00m\n\u001b[1;32m   (...)\u001b[0m\n\u001b[0;32m   1376\u001b[0m     \u001b[39m*\u001b[39m\u001b[39m*\u001b[39mkwargs,\n\u001b[0;32m   1377\u001b[0m ):\n\u001b[1;32m-> 1379\u001b[0m     p \u001b[39m=\u001b[39m _DistributionPlotter(\n\u001b[0;32m   1380\u001b[0m         data\u001b[39m=\u001b[39;49mdata,\n\u001b[0;32m   1381\u001b[0m         variables\u001b[39m=\u001b[39;49m\u001b[39mdict\u001b[39;49m(x\u001b[39m=\u001b[39;49mx, y\u001b[39m=\u001b[39;49my, hue\u001b[39m=\u001b[39;49mhue, weights\u001b[39m=\u001b[39;49mweights),\n\u001b[0;32m   1382\u001b[0m     )\n\u001b[0;32m   1384\u001b[0m     p\u001b[39m.\u001b[39mmap_hue(palette\u001b[39m=\u001b[39mpalette, order\u001b[39m=\u001b[39mhue_order, norm\u001b[39m=\u001b[39mhue_norm)\n\u001b[0;32m   1386\u001b[0m     \u001b[39mif\u001b[39;00m ax \u001b[39mis\u001b[39;00m \u001b[39mNone\u001b[39;00m:\n",
            "File \u001b[1;32mc:\\Users\\bryan\\AppData\\Local\\Programs\\Python\\Python310\\lib\\site-packages\\seaborn\\distributions.py:110\u001b[0m, in \u001b[0;36m_DistributionPlotter.__init__\u001b[1;34m(self, data, variables)\u001b[0m\n\u001b[0;32m    104\u001b[0m \u001b[39mdef\u001b[39;00m \u001b[39m__init__\u001b[39m(\n\u001b[0;32m    105\u001b[0m     \u001b[39mself\u001b[39m,\n\u001b[0;32m    106\u001b[0m     data\u001b[39m=\u001b[39m\u001b[39mNone\u001b[39;00m,\n\u001b[0;32m    107\u001b[0m     variables\u001b[39m=\u001b[39m{},\n\u001b[0;32m    108\u001b[0m ):\n\u001b[1;32m--> 110\u001b[0m     \u001b[39msuper\u001b[39;49m()\u001b[39m.\u001b[39;49m\u001b[39m__init__\u001b[39;49m(data\u001b[39m=\u001b[39;49mdata, variables\u001b[39m=\u001b[39;49mvariables)\n",
            "File \u001b[1;32mc:\\Users\\bryan\\AppData\\Local\\Programs\\Python\\Python310\\lib\\site-packages\\seaborn\\_base.py:634\u001b[0m, in \u001b[0;36mVectorPlotter.__init__\u001b[1;34m(self, data, variables)\u001b[0m\n\u001b[0;32m    629\u001b[0m \u001b[39m# var_ordered is relevant only for categorical axis variables, and may\u001b[39;00m\n\u001b[0;32m    630\u001b[0m \u001b[39m# be better handled by an internal axis information object that tracks\u001b[39;00m\n\u001b[0;32m    631\u001b[0m \u001b[39m# such information and is set up by the scale_* methods. The analogous\u001b[39;00m\n\u001b[0;32m    632\u001b[0m \u001b[39m# information for numeric axes would be information about log scales.\u001b[39;00m\n\u001b[0;32m    633\u001b[0m \u001b[39mself\u001b[39m\u001b[39m.\u001b[39m_var_ordered \u001b[39m=\u001b[39m {\u001b[39m\"\u001b[39m\u001b[39mx\u001b[39m\u001b[39m\"\u001b[39m: \u001b[39mFalse\u001b[39;00m, \u001b[39m\"\u001b[39m\u001b[39my\u001b[39m\u001b[39m\"\u001b[39m: \u001b[39mFalse\u001b[39;00m}  \u001b[39m# alt., used DefaultDict\u001b[39;00m\n\u001b[1;32m--> 634\u001b[0m \u001b[39mself\u001b[39;49m\u001b[39m.\u001b[39;49massign_variables(data, variables)\n\u001b[0;32m    636\u001b[0m \u001b[39m# TODO Lots of tests assume that these are called to initialize the\u001b[39;00m\n\u001b[0;32m    637\u001b[0m \u001b[39m# mappings to default values on class initialization. I'd prefer to\u001b[39;00m\n\u001b[0;32m    638\u001b[0m \u001b[39m# move away from that and only have a mapping when explicitly called.\u001b[39;00m\n\u001b[0;32m    639\u001b[0m \u001b[39mfor\u001b[39;00m var \u001b[39min\u001b[39;00m [\u001b[39m\"\u001b[39m\u001b[39mhue\u001b[39m\u001b[39m\"\u001b[39m, \u001b[39m\"\u001b[39m\u001b[39msize\u001b[39m\u001b[39m\"\u001b[39m, \u001b[39m\"\u001b[39m\u001b[39mstyle\u001b[39m\u001b[39m\"\u001b[39m]:\n",
            "File \u001b[1;32mc:\\Users\\bryan\\AppData\\Local\\Programs\\Python\\Python310\\lib\\site-packages\\seaborn\\_base.py:679\u001b[0m, in \u001b[0;36mVectorPlotter.assign_variables\u001b[1;34m(self, data, variables)\u001b[0m\n\u001b[0;32m    674\u001b[0m \u001b[39melse\u001b[39;00m:\n\u001b[0;32m    675\u001b[0m     \u001b[39m# When dealing with long-form input, use the newer PlotData\u001b[39;00m\n\u001b[0;32m    676\u001b[0m     \u001b[39m# object (internal but introduced for the objects interface)\u001b[39;00m\n\u001b[0;32m    677\u001b[0m     \u001b[39m# to centralize / standardize data consumption logic.\u001b[39;00m\n\u001b[0;32m    678\u001b[0m     \u001b[39mself\u001b[39m\u001b[39m.\u001b[39minput_format \u001b[39m=\u001b[39m \u001b[39m\"\u001b[39m\u001b[39mlong\u001b[39m\u001b[39m\"\u001b[39m\n\u001b[1;32m--> 679\u001b[0m     plot_data \u001b[39m=\u001b[39m PlotData(data, variables)\n\u001b[0;32m    680\u001b[0m     frame \u001b[39m=\u001b[39m plot_data\u001b[39m.\u001b[39mframe\n\u001b[0;32m    681\u001b[0m     names \u001b[39m=\u001b[39m plot_data\u001b[39m.\u001b[39mnames\n",
            "File \u001b[1;32mc:\\Users\\bryan\\AppData\\Local\\Programs\\Python\\Python310\\lib\\site-packages\\seaborn\\_core\\data.py:58\u001b[0m, in \u001b[0;36mPlotData.__init__\u001b[1;34m(self, data, variables)\u001b[0m\n\u001b[0;32m     51\u001b[0m \u001b[39mdef\u001b[39;00m \u001b[39m__init__\u001b[39m(\n\u001b[0;32m     52\u001b[0m     \u001b[39mself\u001b[39m,\n\u001b[0;32m     53\u001b[0m     data: DataSource,\n\u001b[0;32m     54\u001b[0m     variables: \u001b[39mdict\u001b[39m[\u001b[39mstr\u001b[39m, VariableSpec],\n\u001b[0;32m     55\u001b[0m ):\n\u001b[0;32m     57\u001b[0m     data \u001b[39m=\u001b[39m handle_data_source(data)\n\u001b[1;32m---> 58\u001b[0m     frame, names, ids \u001b[39m=\u001b[39m \u001b[39mself\u001b[39;49m\u001b[39m.\u001b[39;49m_assign_variables(data, variables)\n\u001b[0;32m     60\u001b[0m     \u001b[39mself\u001b[39m\u001b[39m.\u001b[39mframe \u001b[39m=\u001b[39m frame\n\u001b[0;32m     61\u001b[0m     \u001b[39mself\u001b[39m\u001b[39m.\u001b[39mnames \u001b[39m=\u001b[39m names\n",
            "File \u001b[1;32mc:\\Users\\bryan\\AppData\\Local\\Programs\\Python\\Python310\\lib\\site-packages\\seaborn\\_core\\data.py:232\u001b[0m, in \u001b[0;36mPlotData._assign_variables\u001b[1;34m(self, data, variables)\u001b[0m\n\u001b[0;32m    230\u001b[0m     \u001b[39melse\u001b[39;00m:\n\u001b[0;32m    231\u001b[0m         err \u001b[39m+\u001b[39m\u001b[39m=\u001b[39m \u001b[39m\"\u001b[39m\u001b[39mAn entry with this name does not appear in `data`.\u001b[39m\u001b[39m\"\u001b[39m\n\u001b[1;32m--> 232\u001b[0m     \u001b[39mraise\u001b[39;00m \u001b[39mValueError\u001b[39;00m(err)\n\u001b[0;32m    234\u001b[0m \u001b[39melse\u001b[39;00m:\n\u001b[0;32m    235\u001b[0m \n\u001b[0;32m    236\u001b[0m     \u001b[39m# Otherwise, assume the value somehow represents data\u001b[39;00m\n\u001b[0;32m    237\u001b[0m \n\u001b[0;32m    238\u001b[0m     \u001b[39m# Ignore empty data structures\u001b[39;00m\n\u001b[0;32m    239\u001b[0m     \u001b[39mif\u001b[39;00m \u001b[39misinstance\u001b[39m(val, Sized) \u001b[39mand\u001b[39;00m \u001b[39mlen\u001b[39m(val) \u001b[39m==\u001b[39m \u001b[39m0\u001b[39m:\n",
            "\u001b[1;31mValueError\u001b[0m: Could not interpret value `Pixel Intensity` for `x`. An entry with this name does not appear in `data`."
          ]
        }
      ],
      "source": [
        "def EDA2(pixelData):\n",
        "    #todo show distributions for each label I guess.\n",
        "    fig, axes = plt.subplots(1, 3, figsize=(18, 6), sharey=True)\n",
        "    sns.histplot(, ax=axes[0], x=\"mean_radius\", kde=True, color='r')\n",
        "    sns.histplot(data, ax=axes[1], x=\"mean_smoothness\", kde=True, color='b')\n",
        "    sns.histplot(data, ax=axes[2], x=\"mean_texture\", kde=True)\n"
      ]
    },
    {
      "cell_type": "markdown",
      "metadata": {
        "id": "663yj_wEnLHm"
      },
      "source": [
        "## Calculate P(Y=y) for all possible y"
      ]
    },
    {
      "cell_type": "code",
      "execution_count": null,
      "metadata": {
        "id": "oyBz7HU6nLHn"
      },
      "outputs": [],
      "source": [
        "def calculate_prior(df, Y):\n",
        "    classes = sorted(list(df[Y].unique()))\n",
        "    prior = []\n",
        "    for i in classes:\n",
        "        prior.append(len(df[df[Y]==i])/len(df))\n",
        "    return prior"
      ]
    },
    {
      "cell_type": "markdown",
      "metadata": {
        "id": "PgOtkvaFnLHn"
      },
      "source": [
        "## Approach 1: Calculate P(X=x|Y=y) using Gaussian dist."
      ]
    },
    {
      "cell_type": "code",
      "execution_count": null,
      "metadata": {
        "id": "jfg9mzmNnLHn"
      },
      "outputs": [],
      "source": [
        "def calculate_likelihood_gaussian(df, feat_name, feat_val, Y, label):\n",
        "    feat = list(df.columns)\n",
        "    df = df[df[Y]==label]\n",
        "    mean, std = df[feat_name].mean(), df[feat_name].std()\n",
        "    p_x_given_y = (1 / (np.sqrt(2 * np.pi) * std)) *  np.exp(-((feat_val-mean)**2 / (2 * std**2 )))\n",
        "    return p_x_given_y"
      ]
    },
    {
      "cell_type": "markdown",
      "metadata": {
        "id": "g9CtXk9HnLHo"
      },
      "source": [
        "## Calculate P(X=x1|Y=y)P(X=x2|Y=y)...P(X=xn|Y=y) * P(Y=y) for all y and find the maximum"
      ]
    },
    {
      "cell_type": "code",
      "execution_count": null,
      "metadata": {
        "id": "QrZZR46xnLHo"
      },
      "outputs": [],
      "source": [
        "def naive_bayes_gaussian(df, X, Y):\n",
        "    # get feature names\n",
        "    features = list(df.columns)[:-1]\n",
        "\n",
        "    # calculate prior\n",
        "    prior = calculate_prior(df, Y)\n",
        "\n",
        "    Y_pred = []\n",
        "    # loop over every data sample\n",
        "    for x in X:\n",
        "        # calculate likelihood\n",
        "        labels = sorted(list(df[Y].unique()))\n",
        "        likelihood = [1]*len(labels)\n",
        "        for j in range(len(labels)):\n",
        "            for i in range(len(features)):\n",
        "                likelihood[j] *= calculate_likelihood_gaussian(df, features[i], x[i], Y, labels[j])\n",
        "\n",
        "        # calculate posterior probability (numerator only)\n",
        "        post_prob = [1]*len(labels)\n",
        "        for j in range(len(labels)):\n",
        "            post_prob[j] = likelihood[j] * prior[j]\n",
        "\n",
        "        Y_pred.append(np.argmax(post_prob))\n",
        "\n",
        "    return np.array(Y_pred)"
      ]
    },
    {
      "cell_type": "markdown",
      "metadata": {
        "id": "Vvy3NsdKnLHo"
      },
      "source": [
        "## Test Gaussian model"
      ]
    },
    {
      "cell_type": "code",
      "execution_count": null,
      "metadata": {
        "colab": {
          "base_uri": "https://localhost:8080/"
        },
        "id": "ITuWU8g-nLHp",
        "outputId": "b0ab05d6-cf4a-45ec-f867-5552ab5fee5b"
      },
      "outputs": [],
      "source": [
        "from sklearn.model_selection import train_test_split\n",
        "train, test = train_test_split(data, test_size=.2, random_state=41)\n",
        "\n",
        "X_test = test.iloc[:,:-1].values\n",
        "Y_test = test.iloc[:,-1].values\n",
        "Y_pred = naive_bayes_gaussian(train, X=X_test, Y=\"diagnosis\")\n",
        "\n",
        "from sklearn.metrics import confusion_matrix, f1_score\n",
        "print(confusion_matrix(Y_test, Y_pred))\n",
        "print(f1_score(Y_test, Y_pred))"
      ]
    },
    {
      "cell_type": "markdown",
      "metadata": {
        "id": "xSSm1Dp-nLHp"
      },
      "source": [
        "## Convert continuous features to Categorical features"
      ]
    },
    {
      "cell_type": "code",
      "execution_count": null,
      "metadata": {
        "colab": {
          "base_uri": "https://localhost:8080/",
          "height": 359
        },
        "id": "YcJJd_UTnLHp",
        "outputId": "2afb8bad-a960-4e76-fed9-84b9bb2d6707"
      },
      "outputs": [],
      "source": [
        "data[\"cat_mean_radius\"] = pd.cut(data[\"mean_radius\"].values, bins = 5, labels = [0,1,2,3,4])\n",
        "data[\"cat_mean_texture\"] = pd.cut(data[\"mean_texture\"].values, bins = 5, labels = [0,1,2,3,4])\n",
        "data[\"cat_mean_smoothness\"] = pd.cut(data[\"mean_smoothness\"].values, bins = 5, labels = [0,1,2,3,4])\n",
        "\n",
        "data = data.drop(columns=[\"mean_radius\", \"mean_texture\", \"mean_smoothness\"])\n",
        "data = data[[\"cat_mean_radius\",\t\"cat_mean_texture\",\t\"cat_mean_smoothness\", \"diagnosis\"]]\n",
        "data.head(10)"
      ]
    },
    {
      "cell_type": "markdown",
      "metadata": {
        "id": "9wPzGxsHnLHq"
      },
      "source": [
        "## Approach 2: Calculate P(X=x|Y=y) categorically"
      ]
    },
    {
      "cell_type": "code",
      "execution_count": null,
      "metadata": {
        "id": "dPG2lsnmnLHq"
      },
      "outputs": [],
      "source": [
        "def calculate_likelihood_categorical(df, feat_name, feat_val, Y, label):\n",
        "    feat = list(df.columns)\n",
        "    df = df[df[Y]==label]\n",
        "    p_x_given_y = len(df[df[feat_name]==feat_val]) / len(df)\n",
        "    return p_x_given_y"
      ]
    },
    {
      "cell_type": "markdown",
      "metadata": {
        "id": "s-vFDFkKnLHq"
      },
      "source": [
        "## Calculate P(X=x1|Y=y)P(X=x2|Y=y)...P(X=xn|Y=y) * P(Y=y) for all y and find the maximum"
      ]
    },
    {
      "cell_type": "code",
      "execution_count": null,
      "metadata": {
        "id": "RSEBU58znLHq"
      },
      "outputs": [],
      "source": [
        "def naive_bayes_categorical(df, X, Y):\n",
        "    # get feature names\n",
        "    features = list(df.columns)[:-1]\n",
        "    print(features)\n",
        "    # calculate prior\n",
        "    prior = calculate_prior(df, Y)\n",
        "\n",
        "    Y_pred = []\n",
        "    # loop over every data sample\n",
        "    for x in X:\n",
        "        # calculate likelihood\n",
        "        labels = sorted(list(df[Y].unique()))\n",
        "        likelihood = [1]*len(labels)\n",
        "        for j in range(len(labels)):\n",
        "            for i in range(len(features)):\n",
        "                likelihood[j] *= calculate_likelihood_categorical(df, features[i], x[i], Y, labels[j])\n",
        "\n",
        "        # calculate posterior probability (numerator only)\n",
        "        post_prob = [1]*len(labels)\n",
        "        for j in range(len(labels)):\n",
        "            post_prob[j] = likelihood[j] * prior[j]\n",
        "\n",
        "        Y_pred.append(np.argmax(post_prob))\n",
        "\n",
        "    return np.array(Y_pred)"
      ]
    },
    {
      "cell_type": "markdown",
      "metadata": {
        "id": "pV0KEZyvnLHr"
      },
      "source": [
        "## Test Categorical model"
      ]
    },
    {
      "cell_type": "code",
      "execution_count": null,
      "metadata": {
        "colab": {
          "base_uri": "https://localhost:8080/"
        },
        "id": "6QhneW7anLHr",
        "outputId": "404a9d21-7ab4-4950-f13c-3898059a50da"
      },
      "outputs": [],
      "source": [
        "from sklearn.model_selection import train_test_split\n",
        "train, test = train_test_split(data, test_size=.2, random_state=41)\n",
        "\n",
        "\n",
        "X_test = test.iloc[:,:-1].values\n",
        "Y_test = test.iloc[:,-1].values\n",
        "Y_pred = naive_bayes_categorical(train, X=X_test, Y=\"diagnosis\")\n",
        "\n",
        "from sklearn.metrics import confusion_matrix, f1_score\n",
        "print(confusion_matrix(Y_test, Y_pred))\n",
        "print(f1_score(Y_test, Y_pred))"
      ]
    }
  ],
  "metadata": {
    "colab": {
      "provenance": []
    },
    "kernelspec": {
      "display_name": "Python 3.8.5 64-bit (conda)",
      "metadata": {
        "interpreter": {
          "hash": "2c81527b5a4384cf19648bf8d6f513a12814ed111bcfa0a54163f8e293289c46"
        }
      },
      "name": "python3"
    },
    "language_info": {
      "codemirror_mode": {
        "name": "ipython",
        "version": 3
      },
      "file_extension": ".py",
      "mimetype": "text/x-python",
      "name": "python",
      "nbconvert_exporter": "python",
      "pygments_lexer": "ipython3",
      "version": "3.10.7"
    },
    "orig_nbformat": 2
  },
  "nbformat": 4,
  "nbformat_minor": 0
}
