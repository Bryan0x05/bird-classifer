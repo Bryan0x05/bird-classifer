{
  "cells": [
    {
      "cell_type": "markdown",
      "metadata": {},
      "source": [
        "# Installing Needed Tools"
      ]
    },
    {
      "cell_type": "code",
      "execution_count": 14,
      "metadata": {},
      "outputs": [
        {
          "name": "stdout",
          "output_type": "stream",
          "text": [
            "Requirement already satisfied: opencv-python in c:\\users\\bryan\\appdata\\local\\programs\\python\\python310\\lib\\site-packages (4.8.1.78)\n",
            "Requirement already satisfied: numpy>=1.21.2 in c:\\users\\bryan\\appdata\\local\\programs\\python\\python310\\lib\\site-packages (from opencv-python) (1.22.3)\n",
            "Note: you may need to restart the kernel to use updated packages.\n"
          ]
        }
      ],
      "source": [
        "%pip install opencv-python"
      ]
    },
    {
      "cell_type": "markdown",
      "metadata": {
        "id": "exHt2qainLHc"
      },
      "source": [
        "## Tools"
      ]
    },
    {
      "cell_type": "code",
      "execution_count": 15,
      "metadata": {
        "id": "DEW7neF4nLHg"
      },
      "outputs": [],
      "source": [
        "import numpy as np # for handling numbers\n",
        "import pandas as pd # for handling spreadsheet data\n",
        "import matplotlib.pyplot as plt # for plotting\n",
        "import cv2 # computer vision from extracting features from images\n",
        "import seaborn as sns # enchancement of plotting \n",
        "import math # uses for log operations to prevent underflow when calculating very small %'s\n",
        "sns.set_style(\"darkgrid\")"
      ]
    },
    {
      "cell_type": "markdown",
      "metadata": {
        "id": "2gkoIIbanLHi"
      },
      "source": [
        "## Dataset\n",
        "Load the spreadsheet for feature extraction with computer vision."
      ]
    },
    {
      "cell_type": "code",
      "execution_count": 16,
      "metadata": {
        "colab": {
          "base_uri": "https://localhost:8080/",
          "height": 363
        },
        "id": "mjUZ0BtbnLHi",
        "outputId": "0a762807-adcc-4249-ab35-97ee6b230aa9"
      },
      "outputs": [
        {
          "data": {
            "text/html": [
              "<div>\n",
              "<style scoped>\n",
              "    .dataframe tbody tr th:only-of-type {\n",
              "        vertical-align: middle;\n",
              "    }\n",
              "\n",
              "    .dataframe tbody tr th {\n",
              "        vertical-align: top;\n",
              "    }\n",
              "\n",
              "    .dataframe thead th {\n",
              "        text-align: right;\n",
              "    }\n",
              "</style>\n",
              "<table border=\"1\" class=\"dataframe\">\n",
              "  <thead>\n",
              "    <tr style=\"text-align: right;\">\n",
              "      <th></th>\n",
              "      <th>class id</th>\n",
              "      <th>filepaths</th>\n",
              "      <th>labels</th>\n",
              "      <th>data set</th>\n",
              "      <th>scientific name</th>\n",
              "    </tr>\n",
              "  </thead>\n",
              "  <tbody>\n",
              "    <tr>\n",
              "      <th>0</th>\n",
              "      <td>40.0</td>\n",
              "      <td>train/ASIAN GREEN BEE EATER/162.jpg</td>\n",
              "      <td>ASIAN GREEN BEE EATER</td>\n",
              "      <td>train</td>\n",
              "      <td>MEROPS ORIENTALIS</td>\n",
              "    </tr>\n",
              "    <tr>\n",
              "      <th>1</th>\n",
              "      <td>40.0</td>\n",
              "      <td>train/ASIAN GREEN BEE EATER/136.jpg</td>\n",
              "      <td>ASIAN GREEN BEE EATER</td>\n",
              "      <td>train</td>\n",
              "      <td>MEROPS ORIENTALIS</td>\n",
              "    </tr>\n",
              "    <tr>\n",
              "      <th>2</th>\n",
              "      <td>40.0</td>\n",
              "      <td>train/ASIAN GREEN BEE EATER/153.jpg</td>\n",
              "      <td>ASIAN GREEN BEE EATER</td>\n",
              "      <td>train</td>\n",
              "      <td>MEROPS ORIENTALIS</td>\n",
              "    </tr>\n",
              "    <tr>\n",
              "      <th>3</th>\n",
              "      <td>40.0</td>\n",
              "      <td>train/ASIAN GREEN BEE EATER/102.jpg</td>\n",
              "      <td>ASIAN GREEN BEE EATER</td>\n",
              "      <td>train</td>\n",
              "      <td>MEROPS ORIENTALIS</td>\n",
              "    </tr>\n",
              "    <tr>\n",
              "      <th>4</th>\n",
              "      <td>40.0</td>\n",
              "      <td>train/ASIAN GREEN BEE EATER/145.jpg</td>\n",
              "      <td>ASIAN GREEN BEE EATER</td>\n",
              "      <td>train</td>\n",
              "      <td>MEROPS ORIENTALIS</td>\n",
              "    </tr>\n",
              "    <tr>\n",
              "      <th>5</th>\n",
              "      <td>40.0</td>\n",
              "      <td>train/ASIAN GREEN BEE EATER/101.jpg</td>\n",
              "      <td>ASIAN GREEN BEE EATER</td>\n",
              "      <td>train</td>\n",
              "      <td>MEROPS ORIENTALIS</td>\n",
              "    </tr>\n",
              "    <tr>\n",
              "      <th>6</th>\n",
              "      <td>40.0</td>\n",
              "      <td>train/ASIAN GREEN BEE EATER/105.jpg</td>\n",
              "      <td>ASIAN GREEN BEE EATER</td>\n",
              "      <td>train</td>\n",
              "      <td>MEROPS ORIENTALIS</td>\n",
              "    </tr>\n",
              "    <tr>\n",
              "      <th>7</th>\n",
              "      <td>40.0</td>\n",
              "      <td>train/ASIAN GREEN BEE EATER/166.jpg</td>\n",
              "      <td>ASIAN GREEN BEE EATER</td>\n",
              "      <td>train</td>\n",
              "      <td>MEROPS ORIENTALIS</td>\n",
              "    </tr>\n",
              "    <tr>\n",
              "      <th>8</th>\n",
              "      <td>40.0</td>\n",
              "      <td>train/ASIAN GREEN BEE EATER/106.jpg</td>\n",
              "      <td>ASIAN GREEN BEE EATER</td>\n",
              "      <td>train</td>\n",
              "      <td>MEROPS ORIENTALIS</td>\n",
              "    </tr>\n",
              "    <tr>\n",
              "      <th>9</th>\n",
              "      <td>40.0</td>\n",
              "      <td>train/ASIAN GREEN BEE EATER/103.jpg</td>\n",
              "      <td>ASIAN GREEN BEE EATER</td>\n",
              "      <td>train</td>\n",
              "      <td>MEROPS ORIENTALIS</td>\n",
              "    </tr>\n",
              "  </tbody>\n",
              "</table>\n",
              "</div>"
            ],
            "text/plain": [
              "   class id                            filepaths                 labels  \\\n",
              "0      40.0  train/ASIAN GREEN BEE EATER/162.jpg  ASIAN GREEN BEE EATER   \n",
              "1      40.0  train/ASIAN GREEN BEE EATER/136.jpg  ASIAN GREEN BEE EATER   \n",
              "2      40.0  train/ASIAN GREEN BEE EATER/153.jpg  ASIAN GREEN BEE EATER   \n",
              "3      40.0  train/ASIAN GREEN BEE EATER/102.jpg  ASIAN GREEN BEE EATER   \n",
              "4      40.0  train/ASIAN GREEN BEE EATER/145.jpg  ASIAN GREEN BEE EATER   \n",
              "5      40.0  train/ASIAN GREEN BEE EATER/101.jpg  ASIAN GREEN BEE EATER   \n",
              "6      40.0  train/ASIAN GREEN BEE EATER/105.jpg  ASIAN GREEN BEE EATER   \n",
              "7      40.0  train/ASIAN GREEN BEE EATER/166.jpg  ASIAN GREEN BEE EATER   \n",
              "8      40.0  train/ASIAN GREEN BEE EATER/106.jpg  ASIAN GREEN BEE EATER   \n",
              "9      40.0  train/ASIAN GREEN BEE EATER/103.jpg  ASIAN GREEN BEE EATER   \n",
              "\n",
              "  data set    scientific name  \n",
              "0    train  MEROPS ORIENTALIS  \n",
              "1    train  MEROPS ORIENTALIS  \n",
              "2    train  MEROPS ORIENTALIS  \n",
              "3    train  MEROPS ORIENTALIS  \n",
              "4    train  MEROPS ORIENTALIS  \n",
              "5    train  MEROPS ORIENTALIS  \n",
              "6    train  MEROPS ORIENTALIS  \n",
              "7    train  MEROPS ORIENTALIS  \n",
              "8    train  MEROPS ORIENTALIS  \n",
              "9    train  MEROPS ORIENTALIS  "
            ]
          },
          "execution_count": 16,
          "metadata": {},
          "output_type": "execute_result"
        }
      ],
      "source": [
        "spreadsheet_data = pd.read_csv(\"birds.csv\") # load the dataset\n",
        "spreadsheet_data.head(10)"
      ]
    },
    {
      "cell_type": "markdown",
      "metadata": {},
      "source": [
        "# Computer Vision & Features\n",
        "The spreadsheet does not directly contains the features, rather the filepaths for the images. Before we can use Naive Bayes we need to use convert these images to usable data format in python."
      ]
    },
    {
      "cell_type": "code",
      "execution_count": 17,
      "metadata": {},
      "outputs": [
        {
          "data": {
            "text/html": [
              "<div>\n",
              "<style scoped>\n",
              "    .dataframe tbody tr th:only-of-type {\n",
              "        vertical-align: middle;\n",
              "    }\n",
              "\n",
              "    .dataframe tbody tr th {\n",
              "        vertical-align: top;\n",
              "    }\n",
              "\n",
              "    .dataframe thead th {\n",
              "        text-align: right;\n",
              "    }\n",
              "</style>\n",
              "<table border=\"1\" class=\"dataframe\">\n",
              "  <thead>\n",
              "    <tr style=\"text-align: right;\">\n",
              "      <th></th>\n",
              "      <th>image</th>\n",
              "      <th>label</th>\n",
              "      <th>class</th>\n",
              "      <th>class no</th>\n",
              "    </tr>\n",
              "  </thead>\n",
              "  <tbody>\n",
              "    <tr>\n",
              "      <th>0</th>\n",
              "      <td>[0.19607843137254902, 0.21176470588235294, 0.2...</td>\n",
              "      <td>train/ASIAN GREEN BEE EATER/162.jpg</td>\n",
              "      <td>ASIAN GREEN BEE EATER</td>\n",
              "      <td>0</td>\n",
              "    </tr>\n",
              "    <tr>\n",
              "      <th>1</th>\n",
              "      <td>[0.4666666666666667, 0.4470588235294118, 0.419...</td>\n",
              "      <td>train/ASIAN GREEN BEE EATER/136.jpg</td>\n",
              "      <td>ASIAN GREEN BEE EATER</td>\n",
              "      <td>0</td>\n",
              "    </tr>\n",
              "    <tr>\n",
              "      <th>2</th>\n",
              "      <td>[0.5647058823529412, 0.5647058823529412, 0.564...</td>\n",
              "      <td>train/ASIAN GREEN BEE EATER/153.jpg</td>\n",
              "      <td>ASIAN GREEN BEE EATER</td>\n",
              "      <td>0</td>\n",
              "    </tr>\n",
              "    <tr>\n",
              "      <th>3</th>\n",
              "      <td>[0.615686274509804, 0.615686274509804, 0.61568...</td>\n",
              "      <td>train/ASIAN GREEN BEE EATER/102.jpg</td>\n",
              "      <td>ASIAN GREEN BEE EATER</td>\n",
              "      <td>0</td>\n",
              "    </tr>\n",
              "    <tr>\n",
              "      <th>4</th>\n",
              "      <td>[0.5607843137254902, 0.5568627450980392, 0.572...</td>\n",
              "      <td>train/ASIAN GREEN BEE EATER/145.jpg</td>\n",
              "      <td>ASIAN GREEN BEE EATER</td>\n",
              "      <td>0</td>\n",
              "    </tr>\n",
              "    <tr>\n",
              "      <th>5</th>\n",
              "      <td>[0.34509803921568627, 0.34901960784313724, 0.3...</td>\n",
              "      <td>train/ASIAN GREEN BEE EATER/101.jpg</td>\n",
              "      <td>ASIAN GREEN BEE EATER</td>\n",
              "      <td>0</td>\n",
              "    </tr>\n",
              "    <tr>\n",
              "      <th>6</th>\n",
              "      <td>[0.2784313725490196, 0.2823529411764706, 0.356...</td>\n",
              "      <td>train/ASIAN GREEN BEE EATER/105.jpg</td>\n",
              "      <td>ASIAN GREEN BEE EATER</td>\n",
              "      <td>0</td>\n",
              "    </tr>\n",
              "    <tr>\n",
              "      <th>7</th>\n",
              "      <td>[0.47058823529411764, 0.4627450980392157, 0.46...</td>\n",
              "      <td>train/ASIAN GREEN BEE EATER/166.jpg</td>\n",
              "      <td>ASIAN GREEN BEE EATER</td>\n",
              "      <td>0</td>\n",
              "    </tr>\n",
              "    <tr>\n",
              "      <th>8</th>\n",
              "      <td>[0.43137254901960786, 0.3568627450980392, 0.23...</td>\n",
              "      <td>train/ASIAN GREEN BEE EATER/106.jpg</td>\n",
              "      <td>ASIAN GREEN BEE EATER</td>\n",
              "      <td>0</td>\n",
              "    </tr>\n",
              "    <tr>\n",
              "      <th>9</th>\n",
              "      <td>[0.8509803921568627, 0.8627450980392157, 0.854...</td>\n",
              "      <td>train/ASIAN GREEN BEE EATER/103.jpg</td>\n",
              "      <td>ASIAN GREEN BEE EATER</td>\n",
              "      <td>0</td>\n",
              "    </tr>\n",
              "  </tbody>\n",
              "</table>\n",
              "</div>"
            ],
            "text/plain": [
              "                                               image  \\\n",
              "0  [0.19607843137254902, 0.21176470588235294, 0.2...   \n",
              "1  [0.4666666666666667, 0.4470588235294118, 0.419...   \n",
              "2  [0.5647058823529412, 0.5647058823529412, 0.564...   \n",
              "3  [0.615686274509804, 0.615686274509804, 0.61568...   \n",
              "4  [0.5607843137254902, 0.5568627450980392, 0.572...   \n",
              "5  [0.34509803921568627, 0.34901960784313724, 0.3...   \n",
              "6  [0.2784313725490196, 0.2823529411764706, 0.356...   \n",
              "7  [0.47058823529411764, 0.4627450980392157, 0.46...   \n",
              "8  [0.43137254901960786, 0.3568627450980392, 0.23...   \n",
              "9  [0.8509803921568627, 0.8627450980392157, 0.854...   \n",
              "\n",
              "                                 label                  class  class no  \n",
              "0  train/ASIAN GREEN BEE EATER/162.jpg  ASIAN GREEN BEE EATER         0  \n",
              "1  train/ASIAN GREEN BEE EATER/136.jpg  ASIAN GREEN BEE EATER         0  \n",
              "2  train/ASIAN GREEN BEE EATER/153.jpg  ASIAN GREEN BEE EATER         0  \n",
              "3  train/ASIAN GREEN BEE EATER/102.jpg  ASIAN GREEN BEE EATER         0  \n",
              "4  train/ASIAN GREEN BEE EATER/145.jpg  ASIAN GREEN BEE EATER         0  \n",
              "5  train/ASIAN GREEN BEE EATER/101.jpg  ASIAN GREEN BEE EATER         0  \n",
              "6  train/ASIAN GREEN BEE EATER/105.jpg  ASIAN GREEN BEE EATER         0  \n",
              "7  train/ASIAN GREEN BEE EATER/166.jpg  ASIAN GREEN BEE EATER         0  \n",
              "8  train/ASIAN GREEN BEE EATER/106.jpg  ASIAN GREEN BEE EATER         0  \n",
              "9  train/ASIAN GREEN BEE EATER/103.jpg  ASIAN GREEN BEE EATER         0  "
            ]
          },
          "execution_count": 17,
          "metadata": {},
          "output_type": "execute_result"
        }
      ],
      "source": [
        "\n",
        "# Get a reduced size image's array of the pixel data into a dataframe to easily relate it to it's 'label'\n",
        "def load_resize_flatten_images(df, target_size=(28, 28)):    \n",
        "    # convert data format to feature vectors\n",
        "    data = {'image':[],'label':[], 'class':[], 'class no':[]}\n",
        "    for _, row in df.iterrows():\n",
        "       \n",
        "        # extractp pixel data from the image at the file path\n",
        "        image = cv2.imread(row['filepaths'])\n",
        "        # gray scale to reduce data size while retaining most data as colors well be stored as intenisity\n",
        "        grayscaledImage = cv2.cvtColor(image,cv2.COLOR_BGR2GRAY)\n",
        "        # resize image to smaller dimensions make data more managable\n",
        "        resizedImage = cv2.resize(grayscaledImage,target_size)\n",
        "        resizedImage = resizedImage / 255\n",
        "        # flatten into a 1D array\n",
        "        imageArray = resizedImage.flatten()\n",
        "        data['image'].append(imageArray)\n",
        "        # use the filepath as an identifer to label the image data\n",
        "        data['label'].append(row['filepaths'])\n",
        "        # inded class from 0 to len(class) for confusion matrix and f1score methods from skitlearn later.\n",
        "        match row['labels']:\n",
        "            case 'ASIAN GREEN BEE EATER':\n",
        "                data['class no'].append(0)\n",
        "            case 'D-ARNAUDS BARBET':\n",
        "                data['class no'].append(1)\n",
        "            case 'HOUSE FINCH':\n",
        "                data['class no'].append(2)\n",
        "            case 'OVENBIRD':\n",
        "                data['class no'].append(3)\n",
        "            case 'RUFOUS TREPE':\n",
        "                data['class no'].append(4)\n",
        "                \n",
        "        data['class'].append(row['labels'])\n",
        "    # encapsulate this data as a dataframe for easier handling\n",
        "    return pd.DataFrame(data)\n",
        "pixelData = load_resize_flatten_images(spreadsheet_data)\n",
        "pixelData.head(10)\n"
      ]
    },
    {
      "cell_type": "markdown",
      "metadata": {
        "id": "M5LEPdUYnLHj"
      },
      "source": [
        "## Basic Exploratory Data Analysis (EDA)\n",
        "A given pixels value is logically independent of another. Since the heat map in the example exists to prove inpendence it has been forgone.\n",
        "Here's a histogram of all pxiels in the dataset."
      ]
    },
    {
      "cell_type": "code",
      "execution_count": 18,
      "metadata": {
        "colab": {
          "base_uri": "https://localhost:8080/",
          "height": 448
        },
        "id": "BGuYKXg_nLHk",
        "outputId": "a805d507-8fef-4d6b-b3e4-55b52b3b6f2c"
      },
      "outputs": [
        {
          "data": {
            "text/plain": [
              "Text(0.5, 1.0, 'Grayscale Pixel Values')"
            ]
          },
          "execution_count": 18,
          "metadata": {},
          "output_type": "execute_result"
        },
        {
          "data": {
            "image/png": "[encoded data removed]",
            "text/plain": [
              "<Figure size 640x480 with 1 Axes>"
            ]
          },
          "metadata": {},
          "output_type": "display_data"
        }
      ],
      "source": [
        "# Create a histogram with specified color\n",
        "plt.hist(pixelData[\"image\"], lw=0)\n",
        "\n",
        "# Labeling x and y axes\n",
        "plt.xlabel('Pixel Intensity')\n",
        "plt.ylabel('Frequency')\n",
        "\n",
        "# Title for the histogram\n",
        "plt.title('Grayscale Pixel Values')"
      ]
    },
    {
      "cell_type": "markdown",
      "metadata": {},
      "source": [
        "# EDA II, Data Distrubtion\n",
        "Histrogram of all gray scale pixel data(like above) but broken down by class(bird species)."
      ]
    },
    {
      "cell_type": "code",
      "execution_count": 19,
      "metadata": {
        "colab": {
          "base_uri": "https://localhost:8080/",
          "height": 342
        },
        "id": "hRZ4xuy7nLHl",
        "outputId": "74cd71cd-8b61-47c7-9df1-3ffa3d92c0ce"
      },
      "outputs": [
        {
          "data": {
            "image/png": "[encoded data removed]",
            "text/plain": [
              "<Figure size 1800x600 with 2 Axes>"
            ]
          },
          "metadata": {},
          "output_type": "display_data"
        }
      ],
      "source": [
        "def EDA2(df):\n",
        "    # show per label distrubtion\n",
        "    classes = list(df['class'].unique())\n",
        "    \n",
        "    fig, axes = plt.subplots(1, len(classes), figsize=(18, 6), sharey=True)\n",
        "    for i,clas in enumerate(classes):\n",
        "        # get image data of the given class\n",
        "        classData = df[df['class'] == clas]['image']\n",
        "        # format the data for sns plotting\n",
        "        flattened_data = np.concatenate(classData.values)\n",
        "        # plot the data\n",
        "        sns.histplot(flattened_data, ax=axes[i],  kde=True)\n",
        "        axes[i].set_title(f'Class: {clas}')  # Set title for each subplot\n",
        "EDA2(pixelData)\n"
      ]
    },
    {
      "cell_type": "markdown",
      "metadata": {},
      "source": [
        "# EDA Results\n",
        "It seems these are approx. normal distrubtion thus Guassian Naive Bayes is applicable."
      ]
    },
    {
      "cell_type": "markdown",
      "metadata": {},
      "source": [
        "# Logistic Regression Beyond this point"
      ]
    },
    {
      "cell_type": "markdown",
      "metadata": {},
      "source": [
        "# Split Data\n",
        "The pre-split data sets doesn't have sufficent test data points. So the datasets are merged into one dataframe and split in a 70/30(train/test) fashion."
      ]
    },
    {
      "cell_type": "code",
      "execution_count": 51,
      "metadata": {},
      "outputs": [],
      "source": [
        "from sklearn.model_selection import train_test_split\n",
        "\n",
        "# tolist + np.array shaped X into (~473,784) 2D Numpy Array\n",
        "X = pixelData['image'].tolist()\n",
        "X = np.array(X)\n",
        "\n",
        "Y = pixelData['class no'].values\n",
        "x_train, x_test, y_train, y_test = train_test_split(X, Y, test_size=0.33, random_state=42)"
      ]
    },
    {
      "cell_type": "markdown",
      "metadata": {},
      "source": [
        "# Evaluation"
      ]
    },
    {
      "cell_type": "code",
      "execution_count": 63,
      "metadata": {},
      "outputs": [
        {
          "ename": "ValueError",
          "evalue": "shapes (316,784) and (316,784) not aligned: 784 (dim 1) != 316 (dim 0)",
          "output_type": "error",
          "traceback": [
            "\u001b[1;31m---------------------------------------------------------------------------\u001b[0m",
            "\u001b[1;31mValueError\u001b[0m                                Traceback (most recent call last)",
            "Cell \u001b[1;32mIn[63], line 4\u001b[0m\n\u001b[0;32m      1\u001b[0m \u001b[38;5;28;01mfrom\u001b[39;00m \u001b[38;5;21;01msklearn\u001b[39;00m\u001b[38;5;21;01m.\u001b[39;00m\u001b[38;5;21;01mmetrics\u001b[39;00m \u001b[38;5;28;01mimport\u001b[39;00m confusion_matrix, classification_report, f1_score\n\u001b[0;32m      3\u001b[0m logreg \u001b[38;5;241m=\u001b[39m LogisticRegression()\n\u001b[1;32m----> 4\u001b[0m \u001b[43mlogreg\u001b[49m\u001b[38;5;241;43m.\u001b[39;49m\u001b[43mfit\u001b[49m\u001b[43m(\u001b[49m\u001b[43mx_train\u001b[49m\u001b[43m,\u001b[49m\u001b[43my_train\u001b[49m\u001b[43m)\u001b[49m\n\u001b[0;32m      5\u001b[0m y_pred \u001b[38;5;241m=\u001b[39m logreg\u001b[38;5;241m.\u001b[39mpredict(x_test)\n\u001b[0;32m      7\u001b[0m \u001b[38;5;66;03m# see how accurate the model is\u001b[39;00m\n",
            "Cell \u001b[1;32mIn[62], line 18\u001b[0m, in \u001b[0;36mLogisticRegression.fit\u001b[1;34m(self, X, y, epochs, lr)\u001b[0m\n\u001b[0;32m     14\u001b[0m N \u001b[38;5;241m=\u001b[39m \u001b[38;5;28mlen\u001b[39m(X)\n\u001b[0;32m     16\u001b[0m \u001b[38;5;28;01mfor\u001b[39;00m _ \u001b[38;5;129;01min\u001b[39;00m \u001b[38;5;28mrange\u001b[39m(epochs):        \n\u001b[0;32m     17\u001b[0m     \u001b[38;5;66;03m# Gradient Descent\u001b[39;00m\n\u001b[1;32m---> 18\u001b[0m     y_hat \u001b[38;5;241m=\u001b[39m \u001b[38;5;28mself\u001b[39m\u001b[38;5;241m.\u001b[39msigmoid(\u001b[43mnp\u001b[49m\u001b[38;5;241;43m.\u001b[39;49m\u001b[43mdot\u001b[49m\u001b[43m(\u001b[49m\u001b[43mX\u001b[49m\u001b[43m,\u001b[49m\u001b[43m \u001b[49m\u001b[43mweights\u001b[49m\u001b[43m)\u001b[49m)\n\u001b[0;32m     19\u001b[0m     weights \u001b[38;5;241m-\u001b[39m\u001b[38;5;241m=\u001b[39m lr \u001b[38;5;241m*\u001b[39m np\u001b[38;5;241m.\u001b[39mdot(X\u001b[38;5;241m.\u001b[39mT,  y_hat \u001b[38;5;241m-\u001b[39m y) \u001b[38;5;241m/\u001b[39m N            \n\u001b[0;32m     20\u001b[0m     \u001b[38;5;66;03m# Saving Progress\u001b[39;00m\n",
            "File \u001b[1;32m<__array_function__ internals>:180\u001b[0m, in \u001b[0;36mdot\u001b[1;34m(*args, **kwargs)\u001b[0m\n",
            "\u001b[1;31mValueError\u001b[0m: shapes (316,784) and (316,784) not aligned: 784 (dim 1) != 316 (dim 0)"
          ]
        }
      ],
      "source": [
        "from sklearn.metrics import confusion_matrix, classification_report, f1_score\n",
        "\n",
        "logreg = LogisticRegression()\n",
        "logreg.fit(x_train,y_train)\n",
        "y_pred = logreg.predict(x_test)\n",
        "\n",
        "# see how accurate the model is\n",
        "print(classification_report(y_test, y_pred))\n",
        "print('-'*55) # prints 55 dashes\n",
        "print('Confusion Matrix\\n')\n",
        "print(confusion_matrix(y_test, y_pred))\n",
        "print(f1_score(y_test, y_pred,average='micro'))"
      ]
    }
  ],
  "metadata": {
    "colab": {
      "provenance": []
    },
    "kernelspec": {
      "display_name": "Python 3.8.5 64-bit (conda)",
      "metadata": {
        "interpreter": {
          "hash": "2c81527b5a4384cf19648bf8d6f513a12814ed111bcfa0a54163f8e293289c46"
        }
      },
      "name": "python3"
    },
    "language_info": {
      "codemirror_mode": {
        "name": "ipython",
        "version": 3
      },
      "file_extension": ".py",
      "mimetype": "text/x-python",
      "name": "python",
      "nbconvert_exporter": "python",
      "pygments_lexer": "ipython3",
      "version": "3.10.7"
    },
    "orig_nbformat": 2
  },
  "nbformat": 4,
  "nbformat_minor": 0
}
