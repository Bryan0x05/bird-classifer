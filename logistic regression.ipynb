{
  "cells": [
    {
      "cell_type": "markdown",
      "metadata": {},
      "source": [
        "# Installing Needed Tools"
      ]
    },
    {
      "cell_type": "code",
      "execution_count": 1,
      "metadata": {},
      "outputs": [
        {
          "name": "stdout",
          "output_type": "stream",
          "text": [
            "Requirement already satisfied: opencv-python in c:\\users\\bryan\\appdata\\local\\programs\\python\\python310\\lib\\site-packages (4.8.1.78)\n",
            "Requirement already satisfied: numpy>=1.21.2 in c:\\users\\bryan\\appdata\\local\\programs\\python\\python310\\lib\\site-packages (from opencv-python) (1.22.3)\n",
            "Note: you may need to restart the kernel to use updated packages.\n"
          ]
        }
      ],
      "source": [
        "%pip install opencv-python"
      ]
    },
    {
      "cell_type": "markdown",
      "metadata": {
        "id": "exHt2qainLHc"
      },
      "source": [
        "## Tools"
      ]
    },
    {
      "cell_type": "code",
      "execution_count": 2,
      "metadata": {
        "id": "DEW7neF4nLHg"
      },
      "outputs": [],
      "source": [
        "import numpy as np # for handling numbers\n",
        "import pandas as pd # for handling spreadsheet data\n",
        "import matplotlib.pyplot as plt # for plotting\n",
        "import cv2 # computer vision from extracting features from images\n",
        "import seaborn as sns # enchancement of plotting \n",
        "import math # uses for log operations to prevent underflow when calculating very small %'s\n",
        "sns.set_style(\"darkgrid\")"
      ]
    },
    {
      "cell_type": "markdown",
      "metadata": {
        "id": "2gkoIIbanLHi"
      },
      "source": [
        "## Dataset\n",
        "Load the spreadsheet for feature extraction with computer vision."
      ]
    },
    {
      "cell_type": "code",
      "execution_count": 3,
      "metadata": {
        "colab": {
          "base_uri": "https://localhost:8080/",
          "height": 363
        },
        "id": "mjUZ0BtbnLHi",
        "outputId": "0a762807-adcc-4249-ab35-97ee6b230aa9"
      },
      "outputs": [
        {
          "data": {
            "text/html": [
              "<div>\n",
              "<style scoped>\n",
              "    .dataframe tbody tr th:only-of-type {\n",
              "        vertical-align: middle;\n",
              "    }\n",
              "\n",
              "    .dataframe tbody tr th {\n",
              "        vertical-align: top;\n",
              "    }\n",
              "\n",
              "    .dataframe thead th {\n",
              "        text-align: right;\n",
              "    }\n",
              "</style>\n",
              "<table border=\"1\" class=\"dataframe\">\n",
              "  <thead>\n",
              "    <tr style=\"text-align: right;\">\n",
              "      <th></th>\n",
              "      <th>class id</th>\n",
              "      <th>filepaths</th>\n",
              "      <th>labels</th>\n",
              "      <th>data set</th>\n",
              "      <th>scientific name</th>\n",
              "    </tr>\n",
              "  </thead>\n",
              "  <tbody>\n",
              "    <tr>\n",
              "      <th>0</th>\n",
              "      <td>40.0</td>\n",
              "      <td>train/ASIAN GREEN BEE EATER/162.jpg</td>\n",
              "      <td>ASIAN GREEN BEE EATER</td>\n",
              "      <td>train</td>\n",
              "      <td>MEROPS ORIENTALIS</td>\n",
              "    </tr>\n",
              "    <tr>\n",
              "      <th>1</th>\n",
              "      <td>40.0</td>\n",
              "      <td>train/ASIAN GREEN BEE EATER/136.jpg</td>\n",
              "      <td>ASIAN GREEN BEE EATER</td>\n",
              "      <td>train</td>\n",
              "      <td>MEROPS ORIENTALIS</td>\n",
              "    </tr>\n",
              "    <tr>\n",
              "      <th>2</th>\n",
              "      <td>40.0</td>\n",
              "      <td>train/ASIAN GREEN BEE EATER/153.jpg</td>\n",
              "      <td>ASIAN GREEN BEE EATER</td>\n",
              "      <td>train</td>\n",
              "      <td>MEROPS ORIENTALIS</td>\n",
              "    </tr>\n",
              "    <tr>\n",
              "      <th>3</th>\n",
              "      <td>40.0</td>\n",
              "      <td>train/ASIAN GREEN BEE EATER/102.jpg</td>\n",
              "      <td>ASIAN GREEN BEE EATER</td>\n",
              "      <td>train</td>\n",
              "      <td>MEROPS ORIENTALIS</td>\n",
              "    </tr>\n",
              "    <tr>\n",
              "      <th>4</th>\n",
              "      <td>40.0</td>\n",
              "      <td>train/ASIAN GREEN BEE EATER/145.jpg</td>\n",
              "      <td>ASIAN GREEN BEE EATER</td>\n",
              "      <td>train</td>\n",
              "      <td>MEROPS ORIENTALIS</td>\n",
              "    </tr>\n",
              "    <tr>\n",
              "      <th>5</th>\n",
              "      <td>40.0</td>\n",
              "      <td>train/ASIAN GREEN BEE EATER/101.jpg</td>\n",
              "      <td>ASIAN GREEN BEE EATER</td>\n",
              "      <td>train</td>\n",
              "      <td>MEROPS ORIENTALIS</td>\n",
              "    </tr>\n",
              "    <tr>\n",
              "      <th>6</th>\n",
              "      <td>40.0</td>\n",
              "      <td>train/ASIAN GREEN BEE EATER/105.jpg</td>\n",
              "      <td>ASIAN GREEN BEE EATER</td>\n",
              "      <td>train</td>\n",
              "      <td>MEROPS ORIENTALIS</td>\n",
              "    </tr>\n",
              "    <tr>\n",
              "      <th>7</th>\n",
              "      <td>40.0</td>\n",
              "      <td>train/ASIAN GREEN BEE EATER/166.jpg</td>\n",
              "      <td>ASIAN GREEN BEE EATER</td>\n",
              "      <td>train</td>\n",
              "      <td>MEROPS ORIENTALIS</td>\n",
              "    </tr>\n",
              "    <tr>\n",
              "      <th>8</th>\n",
              "      <td>40.0</td>\n",
              "      <td>train/ASIAN GREEN BEE EATER/106.jpg</td>\n",
              "      <td>ASIAN GREEN BEE EATER</td>\n",
              "      <td>train</td>\n",
              "      <td>MEROPS ORIENTALIS</td>\n",
              "    </tr>\n",
              "    <tr>\n",
              "      <th>9</th>\n",
              "      <td>40.0</td>\n",
              "      <td>train/ASIAN GREEN BEE EATER/103.jpg</td>\n",
              "      <td>ASIAN GREEN BEE EATER</td>\n",
              "      <td>train</td>\n",
              "      <td>MEROPS ORIENTALIS</td>\n",
              "    </tr>\n",
              "  </tbody>\n",
              "</table>\n",
              "</div>"
            ],
            "text/plain": [
              "   class id                            filepaths                 labels  \\\n",
              "0      40.0  train/ASIAN GREEN BEE EATER/162.jpg  ASIAN GREEN BEE EATER   \n",
              "1      40.0  train/ASIAN GREEN BEE EATER/136.jpg  ASIAN GREEN BEE EATER   \n",
              "2      40.0  train/ASIAN GREEN BEE EATER/153.jpg  ASIAN GREEN BEE EATER   \n",
              "3      40.0  train/ASIAN GREEN BEE EATER/102.jpg  ASIAN GREEN BEE EATER   \n",
              "4      40.0  train/ASIAN GREEN BEE EATER/145.jpg  ASIAN GREEN BEE EATER   \n",
              "5      40.0  train/ASIAN GREEN BEE EATER/101.jpg  ASIAN GREEN BEE EATER   \n",
              "6      40.0  train/ASIAN GREEN BEE EATER/105.jpg  ASIAN GREEN BEE EATER   \n",
              "7      40.0  train/ASIAN GREEN BEE EATER/166.jpg  ASIAN GREEN BEE EATER   \n",
              "8      40.0  train/ASIAN GREEN BEE EATER/106.jpg  ASIAN GREEN BEE EATER   \n",
              "9      40.0  train/ASIAN GREEN BEE EATER/103.jpg  ASIAN GREEN BEE EATER   \n",
              "\n",
              "  data set    scientific name  \n",
              "0    train  MEROPS ORIENTALIS  \n",
              "1    train  MEROPS ORIENTALIS  \n",
              "2    train  MEROPS ORIENTALIS  \n",
              "3    train  MEROPS ORIENTALIS  \n",
              "4    train  MEROPS ORIENTALIS  \n",
              "5    train  MEROPS ORIENTALIS  \n",
              "6    train  MEROPS ORIENTALIS  \n",
              "7    train  MEROPS ORIENTALIS  \n",
              "8    train  MEROPS ORIENTALIS  \n",
              "9    train  MEROPS ORIENTALIS  "
            ]
          },
          "execution_count": 3,
          "metadata": {},
          "output_type": "execute_result"
        }
      ],
      "source": [
        "spreadsheet_data = pd.read_csv(\"birds.csv\") # load the dataset\n",
        "spreadsheet_data.head(10)"
      ]
    },
    {
      "cell_type": "markdown",
      "metadata": {},
      "source": [
        "# Computer Vision & Features\n",
        "The spreadsheet does not directly contains the features, rather the filepaths for the images. Before we can use Naive Bayes we need to use convert these images to usable data format in python."
      ]
    },
    {
      "cell_type": "code",
      "execution_count": 4,
      "metadata": {},
      "outputs": [
        {
          "data": {
            "text/html": [
              "<div>\n",
              "<style scoped>\n",
              "    .dataframe tbody tr th:only-of-type {\n",
              "        vertical-align: middle;\n",
              "    }\n",
              "\n",
              "    .dataframe tbody tr th {\n",
              "        vertical-align: top;\n",
              "    }\n",
              "\n",
              "    .dataframe thead th {\n",
              "        text-align: right;\n",
              "    }\n",
              "</style>\n",
              "<table border=\"1\" class=\"dataframe\">\n",
              "  <thead>\n",
              "    <tr style=\"text-align: right;\">\n",
              "      <th></th>\n",
              "      <th>image</th>\n",
              "      <th>label</th>\n",
              "      <th>class</th>\n",
              "      <th>data set</th>\n",
              "      <th>class no</th>\n",
              "    </tr>\n",
              "  </thead>\n",
              "  <tbody>\n",
              "    <tr>\n",
              "      <th>0</th>\n",
              "      <td>[0.19607843137254902, 0.21176470588235294, 0.2...</td>\n",
              "      <td>train/ASIAN GREEN BEE EATER/162.jpg</td>\n",
              "      <td>ASIAN GREEN BEE EATER</td>\n",
              "      <td>train</td>\n",
              "      <td>0</td>\n",
              "    </tr>\n",
              "    <tr>\n",
              "      <th>1</th>\n",
              "      <td>[0.4666666666666667, 0.4470588235294118, 0.419...</td>\n",
              "      <td>train/ASIAN GREEN BEE EATER/136.jpg</td>\n",
              "      <td>ASIAN GREEN BEE EATER</td>\n",
              "      <td>train</td>\n",
              "      <td>0</td>\n",
              "    </tr>\n",
              "    <tr>\n",
              "      <th>2</th>\n",
              "      <td>[0.5647058823529412, 0.5647058823529412, 0.564...</td>\n",
              "      <td>train/ASIAN GREEN BEE EATER/153.jpg</td>\n",
              "      <td>ASIAN GREEN BEE EATER</td>\n",
              "      <td>train</td>\n",
              "      <td>0</td>\n",
              "    </tr>\n",
              "    <tr>\n",
              "      <th>3</th>\n",
              "      <td>[0.615686274509804, 0.615686274509804, 0.61568...</td>\n",
              "      <td>train/ASIAN GREEN BEE EATER/102.jpg</td>\n",
              "      <td>ASIAN GREEN BEE EATER</td>\n",
              "      <td>train</td>\n",
              "      <td>0</td>\n",
              "    </tr>\n",
              "    <tr>\n",
              "      <th>4</th>\n",
              "      <td>[0.5607843137254902, 0.5568627450980392, 0.572...</td>\n",
              "      <td>train/ASIAN GREEN BEE EATER/145.jpg</td>\n",
              "      <td>ASIAN GREEN BEE EATER</td>\n",
              "      <td>train</td>\n",
              "      <td>0</td>\n",
              "    </tr>\n",
              "    <tr>\n",
              "      <th>5</th>\n",
              "      <td>[0.34509803921568627, 0.34901960784313724, 0.3...</td>\n",
              "      <td>train/ASIAN GREEN BEE EATER/101.jpg</td>\n",
              "      <td>ASIAN GREEN BEE EATER</td>\n",
              "      <td>train</td>\n",
              "      <td>0</td>\n",
              "    </tr>\n",
              "    <tr>\n",
              "      <th>6</th>\n",
              "      <td>[0.2784313725490196, 0.2823529411764706, 0.356...</td>\n",
              "      <td>train/ASIAN GREEN BEE EATER/105.jpg</td>\n",
              "      <td>ASIAN GREEN BEE EATER</td>\n",
              "      <td>train</td>\n",
              "      <td>0</td>\n",
              "    </tr>\n",
              "    <tr>\n",
              "      <th>7</th>\n",
              "      <td>[0.47058823529411764, 0.4627450980392157, 0.46...</td>\n",
              "      <td>train/ASIAN GREEN BEE EATER/166.jpg</td>\n",
              "      <td>ASIAN GREEN BEE EATER</td>\n",
              "      <td>train</td>\n",
              "      <td>0</td>\n",
              "    </tr>\n",
              "    <tr>\n",
              "      <th>8</th>\n",
              "      <td>[0.43137254901960786, 0.3568627450980392, 0.23...</td>\n",
              "      <td>train/ASIAN GREEN BEE EATER/106.jpg</td>\n",
              "      <td>ASIAN GREEN BEE EATER</td>\n",
              "      <td>train</td>\n",
              "      <td>0</td>\n",
              "    </tr>\n",
              "    <tr>\n",
              "      <th>9</th>\n",
              "      <td>[0.8509803921568627, 0.8627450980392157, 0.854...</td>\n",
              "      <td>train/ASIAN GREEN BEE EATER/103.jpg</td>\n",
              "      <td>ASIAN GREEN BEE EATER</td>\n",
              "      <td>train</td>\n",
              "      <td>0</td>\n",
              "    </tr>\n",
              "  </tbody>\n",
              "</table>\n",
              "</div>"
            ],
            "text/plain": [
              "                                               image  \\\n",
              "0  [0.19607843137254902, 0.21176470588235294, 0.2...   \n",
              "1  [0.4666666666666667, 0.4470588235294118, 0.419...   \n",
              "2  [0.5647058823529412, 0.5647058823529412, 0.564...   \n",
              "3  [0.615686274509804, 0.615686274509804, 0.61568...   \n",
              "4  [0.5607843137254902, 0.5568627450980392, 0.572...   \n",
              "5  [0.34509803921568627, 0.34901960784313724, 0.3...   \n",
              "6  [0.2784313725490196, 0.2823529411764706, 0.356...   \n",
              "7  [0.47058823529411764, 0.4627450980392157, 0.46...   \n",
              "8  [0.43137254901960786, 0.3568627450980392, 0.23...   \n",
              "9  [0.8509803921568627, 0.8627450980392157, 0.854...   \n",
              "\n",
              "                                 label                  class data set  \\\n",
              "0  train/ASIAN GREEN BEE EATER/162.jpg  ASIAN GREEN BEE EATER    train   \n",
              "1  train/ASIAN GREEN BEE EATER/136.jpg  ASIAN GREEN BEE EATER    train   \n",
              "2  train/ASIAN GREEN BEE EATER/153.jpg  ASIAN GREEN BEE EATER    train   \n",
              "3  train/ASIAN GREEN BEE EATER/102.jpg  ASIAN GREEN BEE EATER    train   \n",
              "4  train/ASIAN GREEN BEE EATER/145.jpg  ASIAN GREEN BEE EATER    train   \n",
              "5  train/ASIAN GREEN BEE EATER/101.jpg  ASIAN GREEN BEE EATER    train   \n",
              "6  train/ASIAN GREEN BEE EATER/105.jpg  ASIAN GREEN BEE EATER    train   \n",
              "7  train/ASIAN GREEN BEE EATER/166.jpg  ASIAN GREEN BEE EATER    train   \n",
              "8  train/ASIAN GREEN BEE EATER/106.jpg  ASIAN GREEN BEE EATER    train   \n",
              "9  train/ASIAN GREEN BEE EATER/103.jpg  ASIAN GREEN BEE EATER    train   \n",
              "\n",
              "   class no  \n",
              "0         0  \n",
              "1         0  \n",
              "2         0  \n",
              "3         0  \n",
              "4         0  \n",
              "5         0  \n",
              "6         0  \n",
              "7         0  \n",
              "8         0  \n",
              "9         0  "
            ]
          },
          "execution_count": 4,
          "metadata": {},
          "output_type": "execute_result"
        }
      ],
      "source": [
        "\n",
        "# Get a reduced size image's array of the pixel data into a dataframe to easily relate it to it's 'label'\n",
        "def load_resize_flatten_images(df, target_size=(28, 28)):    \n",
        "    # convert data format to feature vectors\n",
        "    images, labels = [],[]\n",
        "    data = {'image':[],'label':[], 'class':[], 'data set':[], 'class no':[]}\n",
        "    for index, row in df.iterrows():\n",
        "        # extractp pixel data from the image at the file path\n",
        "        image = cv2.imread(row['filepaths'])\n",
        "        # gray scale to reduce data size while retaining most data as colors well be stored as intenisity\n",
        "        grayscaledImage = cv2.cvtColor(image,cv2.COLOR_BGR2GRAY)\n",
        "        # resize image to smaller dimensions make data more managable\n",
        "        resizedImage = cv2.resize(grayscaledImage,target_size)\n",
        "        resizedImage = resizedImage / 255\n",
        "        # flatten into a 1D array\n",
        "        imageArray = resizedImage.flatten()\n",
        "        data['image'].append(imageArray)\n",
        "        # use the filepath as an identifer to label the image data\n",
        "        data['label'].append(row['filepaths'])\n",
        "        # inded class from 0 to len(class) for confusion matrix and f1score methods from skitlearn later.\n",
        "        match row['labels']:\n",
        "            case 'ASIAN GREEN BEE EATER':\n",
        "                data['class no'].append(0)\n",
        "            case 'D-ARNAUDS BARBET':\n",
        "                data['class no'].append(1)\n",
        "            case 'HOUSE FINCH':\n",
        "                data['class no'].append(2)\n",
        "            case 'OVENBIRD':\n",
        "                data['class no'].append(3)\n",
        "            case 'RUFOUS TREPE':\n",
        "                data['class no'].append(4)\n",
        "                \n",
        "        data['class'].append(row['labels'])\n",
        "        data['data set'].append(row['data set'])\n",
        "    # encapsulate this data as a dataframe for easier handling\n",
        "    return pd.DataFrame(data)\n",
        "pixelData = load_resize_flatten_images(spreadsheet_data)\n",
        "pixelData.head(10)\n"
      ]
    },
    {
      "cell_type": "markdown",
      "metadata": {
        "id": "M5LEPdUYnLHj"
      },
      "source": [
        "## Basic Exploratory Data Analysis (EDA)\n",
        "A given pixels value is logically independent of another. Since the heat map in the example exists to prove inpendence it has been forgone.\n",
        "Here's a histogram of all pxiels in the dataset."
      ]
    },
    {
      "cell_type": "code",
      "execution_count": 5,
      "metadata": {
        "colab": {
          "base_uri": "https://localhost:8080/",
          "height": 448
        },
        "id": "BGuYKXg_nLHk",
        "outputId": "a805d507-8fef-4d6b-b3e4-55b52b3b6f2c"
      },
      "outputs": [
        {
          "data": {
            "text/plain": [
              "Text(0.5, 1.0, 'Grayscale Pixel Values')"
            ]
          },
          "execution_count": 5,
          "metadata": {},
          "output_type": "execute_result"
        },
        {
          "data": {
            "image/png": "[encoded data removed]",
            "text/plain": [
              "<Figure size 640x480 with 1 Axes>"
            ]
          },
          "metadata": {},
          "output_type": "display_data"
        }
      ],
      "source": [
        "# Create a histogram with specified color\n",
        "plt.hist(pixelData[\"image\"], lw=0)\n",
        "\n",
        "# Labeling x and y axes\n",
        "plt.xlabel('Pixel Intensity')\n",
        "plt.ylabel('Frequency')\n",
        "\n",
        "# Title for the histogram\n",
        "plt.title('Grayscale Pixel Values')"
      ]
    },
    {
      "cell_type": "markdown",
      "metadata": {},
      "source": [
        "# EDA II, Data Distrubtion\n",
        "Histrogram of all gray scale pixel data(like above) but broken down by class(bird species)."
      ]
    },
    {
      "cell_type": "code",
      "execution_count": 6,
      "metadata": {
        "colab": {
          "base_uri": "https://localhost:8080/",
          "height": 342
        },
        "id": "hRZ4xuy7nLHl",
        "outputId": "74cd71cd-8b61-47c7-9df1-3ffa3d92c0ce"
      },
      "outputs": [
        {
          "data": {
            "image/png": "[encoded data removed]",
            "text/plain": [
              "<Figure size 1800x600 with 5 Axes>"
            ]
          },
          "metadata": {},
          "output_type": "display_data"
        }
      ],
      "source": [
        "def EDA2(df):\n",
        "    # show per label distrubtion\n",
        "    classes = list(df['class'].unique())\n",
        "    \n",
        "    fig, axes = plt.subplots(1, len(classes), figsize=(18, 6), sharey=True)\n",
        "    for i,clas in enumerate(classes):\n",
        "        # get image data of the given class\n",
        "        classData = df[df['class'] == clas]['image']\n",
        "        # format the data for sns plotting\n",
        "        flattened_data = np.concatenate(classData.values)\n",
        "        # plot the data\n",
        "        sns.histplot(flattened_data, ax=axes[i],  kde=True)\n",
        "        axes[i].set_title(f'Class: {clas}')  # Set title for each subplot\n",
        "EDA2(pixelData)\n"
      ]
    },
    {
      "cell_type": "markdown",
      "metadata": {},
      "source": [
        "# EDA Results\n",
        "It seems these are approx. normal distrubtion thus Guassian Naive Bayes is applicable."
      ]
    },
    {
      "cell_type": "markdown",
      "metadata": {},
      "source": [
        "# Logistic Regression Beyond this point"
      ]
    },
    {
      "cell_type": "markdown",
      "metadata": {},
      "source": [
        "# logistic Regression\n",
        "Modified for non-binary mutli-class."
      ]
    },
    {
      "cell_type": "code",
      "execution_count": 51,
      "metadata": {},
      "outputs": [],
      "source": [
        "\n",
        "class LogisticRegression:\n",
        "    # softmax for multi-class(non-binary) classification\n",
        "    # softmax is an extentsion of sigmoid(they are equivalent when working on binary case)\n",
        "    def softmax(self,z):\n",
        "        # more numerically stable form of softmax, by z - ... helps prevent overflow\n",
        "        exp_scores = np.exp(z - np.max(z))\n",
        "        probs = exp_scores / np.sum(exp_scores)\n",
        "        return probs\n",
        "    \n",
        "    # TODO: Implement Multi-class cross-entropy function(likelihood est?).\n",
        "    def cost_function(self, X, y, weights):                 \n",
        "        z = np.dot(X, weights)\n",
        "        predict_1 = y * np.log(self.sigmoid(z))\n",
        "        predict_0 = (1 - y) * np.log(1 - self.sigmoid(z))\n",
        "        return -sum(predict_1 + predict_0) / len(X)\n",
        "\n",
        "    # \"fit\" the weights to their best value within the given epochs(iterations).\n",
        "    # could have this program run until weights become static in value\n",
        "    # that may take awhile for little gain however, requires testing.\n",
        "    def fit(self, X, y, num_classes=5, epochs=25, lr=0.05):\n",
        "\n",
        "        # loss seems for after fact data collection, like how well 25 epochs worked, etc.\n",
        "        loss = []\n",
        "        # num feats = size of the first array in list X\n",
        "        num_feats = len(X[0])\n",
        "        \n",
        "        # random weights more effective than init = 0 weights.\n",
        "        weights = np.random.rand(num_feats, num_classes) \n",
        "    \n",
        "        # number of data points(pixel values) in the dataset \n",
        "        N = len(X) * len(X[0])\n",
        "        \n",
        "        # create one-hot vectors with the answer labels\n",
        "        # e.g. if image 1 is class 1, then 1-hot vec = [0, 1, 0, 0, 0]\n",
        "        # first make it the correct shape\n",
        "        one_hot_y = np.zeros((len(X),num_classes))\n",
        "        # then set the apporiate cells to true based on answer labels\n",
        "        one_hot_y[range(len(X)),y] = 1\n",
        "        \n",
        "        # epocs = iterations\n",
        "        for _ in range(epochs):\n",
        "            # go through the array list X, using each array a feature vector(X[i]).\n",
        "            for i in range(len(X)): \n",
        "                # z = feature vec * weight vec\n",
        "                z = np.dot(X[i], weights)\n",
        "                # map to a probability with softmax cause multi-class\n",
        "                y_hat = self.softmax(z)\n",
        "                \n",
        "                # calculated by  y_hat prediction vector - one_hot_y label vector. Each refering to a singluar array of pixel data\n",
        "                error = y_hat - one_hot_y[i]\n",
        "                # gradient descent\n",
        "                # TODO: Fix errornd (5,) : shapes (784,) not aligned: 784 (dim 0) != 5 (dim 0)\n",
        "                # PROBLEM: adding dummy rows/cols to allow tranpose to match dims is problematic.\n",
        "                # Maybe this is the result of a prior error? Am I conceptionally wrong here, and this is a warning sign?\n",
        "                # solution? Use likelihood estimation to cal the error instead???\n",
        "        \n",
        "                #gradient = np.outer(X[i].T, error)\n",
        "                \n",
        "                gradient = error / N\n",
        "                \n",
        "                # adjust weight\n",
        "                weights -= lr * gradient\n",
        "                # TODO: Break when weight is no longer changing.\n",
        "                \n",
        "                # Computing and storing the loss for this epoch\n",
        "                # TODO: Figure out the loss function for softmax(I think it's likelihood function).\n",
        "                #loss.append(self.cost_function(X[i], y, weights))\n",
        "\n",
        "        # Storing the trained weights and loss values in the class attributes\n",
        "        self.weights = weights\n",
        "        self.loss = loss\n",
        "        \n",
        "    def predict(self, X):\n",
        "        predictions = []\n",
        "        # go through each feature vector x in feature vector list X, \n",
        "        for x in X:\n",
        "            # use the fitted weight vector on the feature vector   \n",
        "            z = np.dot(x, self.weights)\n",
        "            # map to probability in mutli-class case\n",
        "            probs = self.softmax(z)\n",
        "            # Returning the class with highest probability\n",
        "            predictions.append(np.argmax(probs))\n",
        "        return predictions"
      ]
    },
    {
      "cell_type": "markdown",
      "metadata": {},
      "source": [
        "# Plug and see"
      ]
    },
    {
      "cell_type": "code",
      "execution_count": 54,
      "metadata": {},
      "outputs": [
        {
          "name": "stdout",
          "output_type": "stream",
          "text": [
            "1197    0\n",
            "1198    0\n",
            "1199    0\n",
            "1200    0\n",
            "1201    0\n",
            "1202    1\n",
            "1203    1\n",
            "1204    1\n",
            "1205    1\n",
            "1206    1\n",
            "1207    2\n",
            "1208    2\n",
            "1209    2\n",
            "1210    2\n",
            "1211    2\n",
            "1212    3\n",
            "1213    3\n",
            "1214    3\n",
            "1215    3\n",
            "1216    3\n",
            "1217    4\n",
            "1218    4\n",
            "1219    4\n",
            "1220    4\n",
            "1221    4\n",
            "Name: class no, dtype: int64\n"
          ]
        }
      ],
      "source": [
        "logreg = LogisticRegression()\n",
        "\n",
        "# features (flatten array of 28 x 28 grayscale pixel values)\n",
        "x_train = pixelData[pixelData['data set'] == 'train']['image'].tolist()\n",
        "x_test = pixelData[pixelData['data set'] == 'test']['image'].tolist()\n",
        "# labels, species labels to the given image\n",
        "y_train = (pixelData[pixelData['data set'] == 'train']['class no'])\n",
        "y_test = (pixelData[pixelData['data set'] == 'test']['class no'])\n",
        "# flatten the y_train series into 1D numpyarray\n",
        "y_train_labels_array = y_train.values\n",
        "\n",
        "\n",
        "logreg.fit(x_train,y_train_labels_array)\n",
        "\n",
        "\n",
        "y_pred = logreg.predict(x_test)"
      ]
    },
    {
      "cell_type": "markdown",
      "metadata": {},
      "source": [
        "# Evaluation"
      ]
    },
    {
      "cell_type": "code",
      "execution_count": 55,
      "metadata": {},
      "outputs": [
        {
          "name": "stdout",
          "output_type": "stream",
          "text": [
            "              precision    recall  f1-score   support\n",
            "\n",
            "           0       0.12      0.20      0.15         5\n",
            "           1       0.10      0.20      0.13         5\n",
            "           2       1.00      0.20      0.33         5\n",
            "           3       0.00      0.00      0.00         5\n",
            "           4       0.50      0.60      0.55         5\n",
            "\n",
            "    accuracy                           0.24        25\n",
            "   macro avg       0.35      0.24      0.23        25\n",
            "weighted avg       0.34      0.24      0.23        25\n",
            "\n",
            "-------------------------------------------------------\n",
            "Confusion Matrix\n",
            "\n",
            "[[1 4 0 0 0]\n",
            " [3 1 0 0 1]\n",
            " [1 3 1 0 0]\n",
            " [1 2 0 0 2]\n",
            " [2 0 0 0 3]]\n",
            "0.24\n"
          ]
        },
        {
          "name": "stderr",
          "output_type": "stream",
          "text": [
            "c:\\Users\\bryan\\AppData\\Local\\Programs\\Python\\Python310\\lib\\site-packages\\sklearn\\metrics\\_classification.py:1471: UndefinedMetricWarning: Precision and F-score are ill-defined and being set to 0.0 in labels with no predicted samples. Use `zero_division` parameter to control this behavior.\n",
            "  _warn_prf(average, modifier, msg_start, len(result))\n",
            "c:\\Users\\bryan\\AppData\\Local\\Programs\\Python\\Python310\\lib\\site-packages\\sklearn\\metrics\\_classification.py:1471: UndefinedMetricWarning: Precision and F-score are ill-defined and being set to 0.0 in labels with no predicted samples. Use `zero_division` parameter to control this behavior.\n",
            "  _warn_prf(average, modifier, msg_start, len(result))\n",
            "c:\\Users\\bryan\\AppData\\Local\\Programs\\Python\\Python310\\lib\\site-packages\\sklearn\\metrics\\_classification.py:1471: UndefinedMetricWarning: Precision and F-score are ill-defined and being set to 0.0 in labels with no predicted samples. Use `zero_division` parameter to control this behavior.\n",
            "  _warn_prf(average, modifier, msg_start, len(result))\n"
          ]
        }
      ],
      "source": [
        "from sklearn.metrics import confusion_matrix, classification_report, f1_score\n",
        "\n",
        "# see how accurate the model is\n",
        "print(classification_report(y_test, y_pred))\n",
        "print('-'*55) # prints 55 dashes\n",
        "print('Confusion Matrix\\n')\n",
        "print(confusion_matrix(y_test, y_pred))\n",
        "print(f1_score(y_test, y_pred,average='micro'))"
      ]
    }
  ],
  "metadata": {
    "colab": {
      "provenance": []
    },
    "kernelspec": {
      "display_name": "Python 3.8.5 64-bit (conda)",
      "metadata": {
        "interpreter": {
          "hash": "2c81527b5a4384cf19648bf8d6f513a12814ed111bcfa0a54163f8e293289c46"
        }
      },
      "name": "python3"
    },
    "language_info": {
      "codemirror_mode": {
        "name": "ipython",
        "version": 3
      },
      "file_extension": ".py",
      "mimetype": "text/x-python",
      "name": "python",
      "nbconvert_exporter": "python",
      "pygments_lexer": "ipython3",
      "version": "3.10.7"
    },
    "orig_nbformat": 2
  },
  "nbformat": 4,
  "nbformat_minor": 0
}
