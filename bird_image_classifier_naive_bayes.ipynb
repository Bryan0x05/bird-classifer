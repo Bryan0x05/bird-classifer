{
 "cells": [
  {
   "cell_type": "markdown",
   "metadata": {},
   "source": []
  },
  {
   "cell_type": "markdown",
   "metadata": {},
   "source": [
    "## Tools"
   ]
  },
  {
   "cell_type": "code",
   "execution_count": null,
   "metadata": {},
   "outputs": [],
   "source": [
    "%pip install tensorflow[and-cuda]"
   ]
  },
  {
   "cell_type": "code",
   "execution_count": 2,
   "metadata": {},
   "outputs": [],
   "source": [
    "import numpy as np # math library\n",
    "import pandas as pd # dataframe library\n",
    "import matplotlib.pyplot as plt # plotting library\n",
    "import seaborn as sns # graphing library that builds ontop of mathplot\n",
    "import tensorflow as tf # machine learning library\n",
    "from tensorflow import keras # computer vision library from tensorflow \n",
    "sns.set_style(\"darkgrid\")"
   ]
  },
  {
   "cell_type": "markdown",
   "metadata": {},
   "source": [
    "## Dataset\n",
    "*Note: This is using a 5 class subset. The subset bird species are RUFOUS TREPE, HOUSE FINCH, D-ARNAUDS BARBET, OVENBIRD, ASIAN GREEN BEE EATER.\n",
    "These 5 were choosen because they had the most available data out of the 500+ species in the orginial dataset.*"
   ]
  },
  {
   "cell_type": "code",
   "execution_count": 5,
   "metadata": {},
   "outputs": [
    {
     "data": {
      "text/html": [
       "<div>\n",
       "<style scoped>\n",
       "    .dataframe tbody tr th:only-of-type {\n",
       "        vertical-align: middle;\n",
       "    }\n",
       "\n",
       "    .dataframe tbody tr th {\n",
       "        vertical-align: top;\n",
       "    }\n",
       "\n",
       "    .dataframe thead th {\n",
       "        text-align: right;\n",
       "    }\n",
       "</style>\n",
       "<table border=\"1\" class=\"dataframe\">\n",
       "  <thead>\n",
       "    <tr style=\"text-align: right;\">\n",
       "      <th></th>\n",
       "      <th>class id</th>\n",
       "      <th>filepaths</th>\n",
       "      <th>labels</th>\n",
       "      <th>data set</th>\n",
       "      <th>scientific name</th>\n",
       "    </tr>\n",
       "  </thead>\n",
       "  <tbody>\n",
       "    <tr>\n",
       "      <th>0</th>\n",
       "      <td>40.0</td>\n",
       "      <td>train/ASIAN GREEN BEE EATER/162.jpg</td>\n",
       "      <td>ASIAN GREEN BEE EATER</td>\n",
       "      <td>train</td>\n",
       "      <td>MEROPS ORIENTALIS</td>\n",
       "    </tr>\n",
       "    <tr>\n",
       "      <th>1</th>\n",
       "      <td>40.0</td>\n",
       "      <td>train/ASIAN GREEN BEE EATER/136.jpg</td>\n",
       "      <td>ASIAN GREEN BEE EATER</td>\n",
       "      <td>train</td>\n",
       "      <td>MEROPS ORIENTALIS</td>\n",
       "    </tr>\n",
       "    <tr>\n",
       "      <th>2</th>\n",
       "      <td>40.0</td>\n",
       "      <td>train/ASIAN GREEN BEE EATER/153.jpg</td>\n",
       "      <td>ASIAN GREEN BEE EATER</td>\n",
       "      <td>train</td>\n",
       "      <td>MEROPS ORIENTALIS</td>\n",
       "    </tr>\n",
       "    <tr>\n",
       "      <th>3</th>\n",
       "      <td>40.0</td>\n",
       "      <td>train/ASIAN GREEN BEE EATER/102.jpg</td>\n",
       "      <td>ASIAN GREEN BEE EATER</td>\n",
       "      <td>train</td>\n",
       "      <td>MEROPS ORIENTALIS</td>\n",
       "    </tr>\n",
       "    <tr>\n",
       "      <th>4</th>\n",
       "      <td>40.0</td>\n",
       "      <td>train/ASIAN GREEN BEE EATER/145.jpg</td>\n",
       "      <td>ASIAN GREEN BEE EATER</td>\n",
       "      <td>train</td>\n",
       "      <td>MEROPS ORIENTALIS</td>\n",
       "    </tr>\n",
       "    <tr>\n",
       "      <th>5</th>\n",
       "      <td>40.0</td>\n",
       "      <td>train/ASIAN GREEN BEE EATER/101.jpg</td>\n",
       "      <td>ASIAN GREEN BEE EATER</td>\n",
       "      <td>train</td>\n",
       "      <td>MEROPS ORIENTALIS</td>\n",
       "    </tr>\n",
       "    <tr>\n",
       "      <th>6</th>\n",
       "      <td>40.0</td>\n",
       "      <td>train/ASIAN GREEN BEE EATER/105.jpg</td>\n",
       "      <td>ASIAN GREEN BEE EATER</td>\n",
       "      <td>train</td>\n",
       "      <td>MEROPS ORIENTALIS</td>\n",
       "    </tr>\n",
       "    <tr>\n",
       "      <th>7</th>\n",
       "      <td>40.0</td>\n",
       "      <td>train/ASIAN GREEN BEE EATER/166.jpg</td>\n",
       "      <td>ASIAN GREEN BEE EATER</td>\n",
       "      <td>train</td>\n",
       "      <td>MEROPS ORIENTALIS</td>\n",
       "    </tr>\n",
       "    <tr>\n",
       "      <th>8</th>\n",
       "      <td>40.0</td>\n",
       "      <td>train/ASIAN GREEN BEE EATER/106.jpg</td>\n",
       "      <td>ASIAN GREEN BEE EATER</td>\n",
       "      <td>train</td>\n",
       "      <td>MEROPS ORIENTALIS</td>\n",
       "    </tr>\n",
       "    <tr>\n",
       "      <th>9</th>\n",
       "      <td>40.0</td>\n",
       "      <td>train/ASIAN GREEN BEE EATER/103.jpg</td>\n",
       "      <td>ASIAN GREEN BEE EATER</td>\n",
       "      <td>train</td>\n",
       "      <td>MEROPS ORIENTALIS</td>\n",
       "    </tr>\n",
       "  </tbody>\n",
       "</table>\n",
       "</div>"
      ],
      "text/plain": [
       "   class id                            filepaths                 labels  \\\n",
       "0      40.0  train/ASIAN GREEN BEE EATER/162.jpg  ASIAN GREEN BEE EATER   \n",
       "1      40.0  train/ASIAN GREEN BEE EATER/136.jpg  ASIAN GREEN BEE EATER   \n",
       "2      40.0  train/ASIAN GREEN BEE EATER/153.jpg  ASIAN GREEN BEE EATER   \n",
       "3      40.0  train/ASIAN GREEN BEE EATER/102.jpg  ASIAN GREEN BEE EATER   \n",
       "4      40.0  train/ASIAN GREEN BEE EATER/145.jpg  ASIAN GREEN BEE EATER   \n",
       "5      40.0  train/ASIAN GREEN BEE EATER/101.jpg  ASIAN GREEN BEE EATER   \n",
       "6      40.0  train/ASIAN GREEN BEE EATER/105.jpg  ASIAN GREEN BEE EATER   \n",
       "7      40.0  train/ASIAN GREEN BEE EATER/166.jpg  ASIAN GREEN BEE EATER   \n",
       "8      40.0  train/ASIAN GREEN BEE EATER/106.jpg  ASIAN GREEN BEE EATER   \n",
       "9      40.0  train/ASIAN GREEN BEE EATER/103.jpg  ASIAN GREEN BEE EATER   \n",
       "\n",
       "  data set    scientific name  \n",
       "0    train  MEROPS ORIENTALIS  \n",
       "1    train  MEROPS ORIENTALIS  \n",
       "2    train  MEROPS ORIENTALIS  \n",
       "3    train  MEROPS ORIENTALIS  \n",
       "4    train  MEROPS ORIENTALIS  \n",
       "5    train  MEROPS ORIENTALIS  \n",
       "6    train  MEROPS ORIENTALIS  \n",
       "7    train  MEROPS ORIENTALIS  \n",
       "8    train  MEROPS ORIENTALIS  \n",
       "9    train  MEROPS ORIENTALIS  "
      ]
     },
     "execution_count": 5,
     "metadata": {},
     "output_type": "execute_result"
    }
   ],
   "source": [
    "# training subset = RUFOUS TREPE, HOUSE FINCH, D-ARNAUDS BARBET, OVENBIRD, ASIAN GREEN BEE EATER\n",
    "#csv format: class id,filepaths(relative),labels,data set(e.g. training,valid or test),scientific name\n",
    "data = pd.read_csv(\"birds.csv\")\n",
    "data.head(10)"
   ]
  },
  {
   "cell_type": "markdown",
   "metadata": {},
   "source": [
    "## Basic Exploratory Data Analysis (EDA)\n",
    "Worry about the EDA stuff after you get Naive Bayes working, it seems to matter little to it."
   ]
  },
  {
   "cell_type": "code",
   "execution_count": null,
   "metadata": {},
   "outputs": [],
   "source": [
    "# Grouping by data set and plotting histograms for each feature/label\n",
    "for dataset, subset in data.groupby('data set'):\n",
    "    plt.figure(figsize=(12, 10))\n",
    "    subset['labels'].hist(alpha=0.5, label=dataset)\n",
    "    plt.title(f'Histogram for data set: {dataset}')\n",
    "    plt.xlabel('Labels')\n",
    "    plt.ylabel('Frequency')\n",
    "    plt.legend()\n",
    "    plt.show()"
   ]
  },
  {
   "cell_type": "markdown",
   "metadata": {},
   "source": [
    "## Naive Bayes Implementation"
   ]
  },
  {
   "cell_type": "code",
   "execution_count": 27,
   "metadata": {},
   "outputs": [],
   "source": [
    "#Step 1 Computer vision!\n",
    "# loop through dataframe and load image into computer vision\n",
    "for index, row in data.iterrows():\n",
    "    # read data set column of the given row\n",
    "    dataset = row['data set']\n",
    "    # skip over non-training data(data hygiene protection) to avoid trainning on valid/test data\n",
    "    if dataset != 'train':\n",
    "        continue\n",
    "    # read filepath col of the given row\n",
    "    filepath = row['filepaths']\n",
    "    # read label\n",
    "    label = row['labels']\n",
    "    # load image into computer vision using native image size(this data set has an universal image size)\n",
    "    image = tf.keras.utils.load_img(filepath)\n",
    "    # the image is 224x224x3 (width x height x color_channels)\n",
    "    image_array = tf.keras.utils.img_to_array(image,data_format='channels_last')"
   ]
  }
 ],
 "metadata": {
  "kernelspec": {
   "display_name": "Python 3",
   "language": "python",
   "name": "python3"
  },
  "language_info": {
   "codemirror_mode": {
    "name": "ipython",
    "version": 3
   },
   "file_extension": ".py",
   "mimetype": "text/x-python",
   "name": "python",
   "nbconvert_exporter": "python",
   "pygments_lexer": "ipython3",
   "version": "3.10.7"
  }
 },
 "nbformat": 4,
 "nbformat_minor": 2
}
